{
  "nbformat": 4,
  "nbformat_minor": 0,
  "metadata": {
    "colab": {
      "name": "EsercizioB.ipynb",
      "provenance": [],
      "collapsed_sections": []
    },
    "kernelspec": {
      "name": "python3",
      "display_name": "Python 3"
    },
    "language_info": {
      "name": "python"
    }
  },
  "cells": [
    {
      "cell_type": "markdown",
      "metadata": {
        "id": "5HsxJlrroYIR"
      },
      "source": [
        "1."
      ]
    },
    {
      "cell_type": "code",
      "metadata": {
        "colab": {
          "base_uri": "https://localhost:8080/"
        },
        "id": "kL4CUwQXoST2",
        "outputId": "26afb5aa-6c7f-43ab-882d-fc784c5b0779"
      },
      "source": [
        "email = 'gino.paolino@gmail.com'\n",
        "print([x.split('@') for x in email.split('.',1)])"
      ],
      "execution_count": null,
      "outputs": [
        {
          "output_type": "stream",
          "name": "stdout",
          "text": [
            "[['gino'], ['paolino', 'gmail.com']]\n"
          ]
        }
      ]
    },
    {
      "cell_type": "markdown",
      "metadata": {
        "id": "0zBWKw4ertGp"
      },
      "source": [
        "2."
      ]
    },
    {
      "cell_type": "code",
      "metadata": {
        "colab": {
          "base_uri": "https://localhost:8080/"
        },
        "id": "0Y3MR8IKrt9R",
        "outputId": "0a3ad984-cefc-4046-be35-393105b854f2"
      },
      "source": [
        "x = int(input())\n",
        "if x % 2 == 0:\n",
        "  print('pari')\n",
        "  if x % 6 == 0:\n",
        "    print('divisibile per 6')\n",
        "  else:\n",
        "    print('non divisibile per 6')\n",
        "else:\n",
        "  print('dispari')"
      ],
      "execution_count": null,
      "outputs": [
        {
          "output_type": "stream",
          "name": "stdout",
          "text": [
            "14\n",
            "pari\n",
            "non divisibile per 6\n"
          ]
        }
      ]
    },
    {
      "cell_type": "markdown",
      "metadata": {
        "id": "m2c3CvXwsoLB"
      },
      "source": [
        "3."
      ]
    },
    {
      "cell_type": "code",
      "metadata": {
        "colab": {
          "base_uri": "https://localhost:8080/"
        },
        "id": "8mdSaET0so3w",
        "outputId": "d9fdf2d7-dd3d-4b68-c18b-41813c261494"
      },
      "source": [
        "parola = 'aieoaaio'\n",
        "vocali = ['a','e','i','o','u']\n",
        "x = 0\n",
        "for lettera in parola:\n",
        "  if lettera not in vocali:\n",
        "    print('parola non di sole vocali')\n",
        "    break\n",
        "  else:\n",
        "    x+=1\n",
        "  if x == len(parola):\n",
        "    print(parola + ' contiene solo vocali')\n",
        "  \n",
        "\n"
      ],
      "execution_count": null,
      "outputs": [
        {
          "output_type": "stream",
          "name": "stdout",
          "text": [
            "aieoaaio contiene solo vocali\n"
          ]
        }
      ]
    },
    {
      "cell_type": "markdown",
      "metadata": {
        "id": "d-GNU5pLugRJ"
      },
      "source": [
        "4."
      ]
    },
    {
      "cell_type": "code",
      "metadata": {
        "colab": {
          "base_uri": "https://localhost:8080/"
        },
        "id": "2IjwiHqfuhRg",
        "outputId": "07d9ea62-7a1b-4bf2-aa98-cea8508acbab"
      },
      "source": [
        "lista = [x for x in input().split()]\n",
        "lenght = int(input())\n",
        "listafilt = list(filter(lambda x: len(x)<lenght,lista))\n",
        "print(listafilt)"
      ],
      "execution_count": null,
      "outputs": [
        {
          "output_type": "stream",
          "name": "stdout",
          "text": [
            "eppe bebbe lsooos lslslslslsl\n",
            "5\n",
            "['eppe']\n"
          ]
        }
      ]
    },
    {
      "cell_type": "markdown",
      "metadata": {
        "id": "iqqbnr47vodh"
      },
      "source": [
        "5."
      ]
    },
    {
      "cell_type": "code",
      "metadata": {
        "colab": {
          "base_uri": "https://localhost:8080/"
        },
        "id": "gJzRYyuGvpYQ",
        "outputId": "cdb3cbbb-0393-448f-d6de-441e9979dd78"
      },
      "source": [
        "parola = 'beppalla'\n",
        "def spaziatura(x):\n",
        "  stringa = \"\"\n",
        "  for char in x:\n",
        "    stringa += char + ' '\n",
        "  return stringa\n",
        "print(spaziatura(parola))"
      ],
      "execution_count": null,
      "outputs": [
        {
          "output_type": "stream",
          "name": "stdout",
          "text": [
            "b e p p a l l a \n"
          ]
        }
      ]
    },
    {
      "cell_type": "markdown",
      "metadata": {
        "id": "cDzcVuHPwvux"
      },
      "source": [
        "6."
      ]
    },
    {
      "cell_type": "code",
      "metadata": {
        "id": "JLJReRm6wwgo",
        "colab": {
          "base_uri": "https://localhost:8080/"
        },
        "outputId": "1ee67c19-1f86-47ec-a6b6-e3a4da7865bb"
      },
      "source": [
        "frase = \"bella pippo poppo loss dkdjk\"\n",
        "print(spaziatura(frase))"
      ],
      "execution_count": null,
      "outputs": [
        {
          "output_type": "stream",
          "name": "stdout",
          "text": [
            "b e l l a   p i p p o   p o p p o   l o s s   d k d j k \n"
          ]
        }
      ]
    },
    {
      "cell_type": "markdown",
      "metadata": {
        "id": "Mt-Doei8HxbU"
      },
      "source": [
        "7."
      ]
    },
    {
      "cell_type": "code",
      "metadata": {
        "colab": {
          "base_uri": "https://localhost:8080/"
        },
        "id": "qbk0v7L1HyQg",
        "outputId": "5e5d381f-606a-4caa-ccda-7264ac4fd0e8"
      },
      "source": [
        "lista = ['beppe','genovina','asdrubale','sus']\n",
        "lista = list(map(lambda x: len(x),lista))\n",
        "print(lista)"
      ],
      "execution_count": null,
      "outputs": [
        {
          "output_type": "stream",
          "name": "stdout",
          "text": [
            "[5, 8, 9, 3]\n"
          ]
        }
      ]
    },
    {
      "cell_type": "markdown",
      "metadata": {
        "id": "cYA2_kxNIdFL"
      },
      "source": [
        "8."
      ]
    },
    {
      "cell_type": "code",
      "metadata": {
        "colab": {
          "base_uri": "https://localhost:8080/"
        },
        "id": "TIlMW0sgIcW0",
        "outputId": "5f5cc1c5-f128-4814-84cb-db19f850a632"
      },
      "source": [
        "lista = ['beppe','genovina','asdrubale','sus']\n",
        "x = int(input())\n",
        "lista = list(filter(lambda e: len(e) > x,lista))\n",
        "print(lista)"
      ],
      "execution_count": null,
      "outputs": [
        {
          "output_type": "stream",
          "name": "stdout",
          "text": [
            "5\n",
            "['genovina', 'asdrubale']\n"
          ]
        }
      ]
    },
    {
      "cell_type": "markdown",
      "metadata": {
        "id": "h6e5y7wgI5qM"
      },
      "source": [
        "9."
      ]
    },
    {
      "cell_type": "code",
      "metadata": {
        "colab": {
          "base_uri": "https://localhost:8080/"
        },
        "id": "1PLBI09HI6T0",
        "outputId": "fa043360-a8d0-4927-cdd7-0ada0648095e"
      },
      "source": [
        "CovidMilano = [\n",
        "               {'CF':'AHJUSHbhsdgh27893','data':['10/83/3929','32/39/1293'],'tipo':'Pfizer'},\n",
        "               {'CF':'HJIDFH82383894892','data':['1/8/392','3/3/129'],'tipo':'Moderna'}\n",
        "]\n",
        "CF = input()\n",
        "for dictionary in CovidMilano:\n",
        "  if dictionary['CF'] == CF:\n",
        "    print('data = ' , dictionary['data'] , 'tipo vaccino = ' , dictionary['tipo'])"
      ],
      "execution_count": null,
      "outputs": [
        {
          "output_type": "stream",
          "name": "stdout",
          "text": [
            "AHJUSHbhsdgh27893\n",
            "data =  ['10/83/3929', '32/39/1293'] tipo vaccino =  Pfizer\n"
          ]
        }
      ]
    }
  ]
}
