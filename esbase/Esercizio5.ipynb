{
  "nbformat": 4,
  "nbformat_minor": 0,
  "metadata": {
    "colab": {
      "name": "Esercizio5.ipynb",
      "provenance": [],
      "collapsed_sections": []
    },
    "kernelspec": {
      "name": "python3",
      "display_name": "Python 3"
    },
    "language_info": {
      "name": "python"
    }
  },
  "cells": [
    {
      "cell_type": "markdown",
      "metadata": {
        "id": "cwU7iZ2NsKGB"
      },
      "source": [
        "1. scrivere una funzione chiamata max che dati due numeri restituisca il più grande. Scrivere poi un programma che, utilizzando la funzione creata, trovi il massimo tra tre numeri inseriti dall'utente. "
      ]
    },
    {
      "cell_type": "code",
      "metadata": {
        "colab": {
          "base_uri": "https://localhost:8080/"
        },
        "id": "D-fyErlVsJBI",
        "outputId": "7f1f84fc-1914-415e-819a-e83f7208aaa6"
      },
      "source": [
        "def max(x,y):\n",
        "  if x > y:\n",
        "    return x\n",
        "  else:\n",
        "    return y\n",
        "\n",
        "print(max(max(int(input()),int(input())),int(input())))"
      ],
      "execution_count": 4,
      "outputs": [
        {
          "output_type": "stream",
          "name": "stdout",
          "text": [
            "10\n",
            "20\n",
            "1\n",
            "20\n"
          ]
        }
      ]
    },
    {
      "cell_type": "markdown",
      "metadata": {
        "id": "PUIMT2FstwpY"
      },
      "source": [
        "2. scrivere una funzione chiamata sommaLista che data una lista di interi restituisca la somma di tutti gli elementi della lista. Scrivere poi un programma che, utilizzando la funzione create, trovi la somma degli elementi di una lista inserita dall'utente. \n"
      ]
    },
    {
      "cell_type": "code",
      "metadata": {
        "colab": {
          "base_uri": "https://localhost:8080/"
        },
        "id": "hkVTrEO9txw7",
        "outputId": "5bfbf002-4abf-4f8d-f976-272beaa8d613"
      },
      "source": [
        "def sommaLista(x):\n",
        "  a=0\n",
        "  for i in x:\n",
        "    a += i\n",
        "  return a \n",
        "lst = [int(i) for i in input(\"Valori: \").split()]\n",
        "print(sommaLista(lst))"
      ],
      "execution_count": 8,
      "outputs": [
        {
          "output_type": "stream",
          "name": "stdout",
          "text": [
            "Valori: 1 2 3 4 5 6 \n",
            "21\n"
          ]
        }
      ]
    },
    {
      "cell_type": "markdown",
      "metadata": {
        "id": "k205bIAC08lS"
      },
      "source": [
        "3. utilizzando le funzioni create precedentemente, scrivere un programma che permetta all'utente di inserire tre liste e di avere il valore massimo della somma degli elementi delle tre liste.\n"
      ]
    },
    {
      "cell_type": "code",
      "metadata": {
        "colab": {
          "base_uri": "https://localhost:8080/"
        },
        "id": "TaPMPEDI0_Bp",
        "outputId": "f3fc1243-074c-4b3c-c235-f41278b10c03"
      },
      "source": [
        "lst1 = [int(i) for i in input(\"Valori: \").split()]\n",
        "lst2 = [int(i) for i in input(\"Valori: \").split()]\n",
        "lst3 = [int(i) for i in input(\"Valori: \").split()]\n",
        "print(max(max(sommaLista(lst1),sommaLista(lst2)),sommaLista(lst3)))"
      ],
      "execution_count": 9,
      "outputs": [
        {
          "output_type": "stream",
          "name": "stdout",
          "text": [
            "Valori: 1 2 3 4 5 6\n",
            "Valori: 8 9 8 9 8 9 8\n",
            "Valori: 4 5 3 2 1\n",
            "59\n"
          ]
        }
      ]
    },
    {
      "cell_type": "markdown",
      "metadata": {
        "id": "iS9IPAFy13aq"
      },
      "source": [
        "4. scrivere una funzione chiamata controlla che dato un numero e due estremi restituisca True se il numero è compreso tra i due estremi, false altrimenti. Utilizzare poi la funzione per trovare il numero di elementi di una lista di numeri interi (inserita dall'utente) compresi tra due estremi (inseriti anch'essi dall'utente)\n"
      ]
    },
    {
      "cell_type": "code",
      "metadata": {
        "colab": {
          "base_uri": "https://localhost:8080/"
        },
        "id": "NiFK5h6515S1",
        "outputId": "1e31ea29-ca79-4352-eb8c-2cac68d748c5"
      },
      "source": [
        "def controlla(x,a,b):\n",
        "  return [i <= max(a,b) and i >= min(a,b) for i in x ]\n",
        "  \n",
        "lst = [int(i) for i in input(\"Valori: \").split()]\n",
        "est1 = int(input(\"estremo 1: \"))\n",
        "est2 = int(input(\"estremo 2: \"))\n",
        "print(controlla(lst,est1,est2))\n",
        "print(controlla(lst,est1,est2)[5])"
      ],
      "execution_count": 31,
      "outputs": [
        {
          "output_type": "stream",
          "name": "stdout",
          "text": [
            "Valori: 1 2 3 4 6 7 \n",
            "estremo 1: 1\n",
            "estremo 2: 3\n",
            "[True, True, True, False, False, False]\n",
            "False\n"
          ]
        }
      ]
    },
    {
      "cell_type": "markdown",
      "metadata": {
        "id": "qK_DRew-506W"
      },
      "source": [
        "5. utilizzare la funzione controlla creata precedentemente per scrivere un programma che, data una lista di numeri interi inserita  dall'utente, carichi in un'altra lista i numeri compresi tra due estremi inseriti anch'essi dall'utente.\n"
      ]
    },
    {
      "cell_type": "code",
      "metadata": {
        "colab": {
          "base_uri": "https://localhost:8080/"
        },
        "id": "ZhC66vFt51TA",
        "outputId": "5dcd6df3-d58a-4413-fb00-576f22d95f00"
      },
      "source": [
        "lst = [int(i) for i in input(\"Valori: \").split()]\n",
        "est1 = int(input(\"estremo 1: \"))\n",
        "est2 = int(input(\"estremo 2: \"))\n",
        "lstsel = [lst[i] for i in range(len(lst)) if controlla(lst,est1,est2)[i] == True]\n",
        "print(lstsel)"
      ],
      "execution_count": 43,
      "outputs": [
        {
          "output_type": "stream",
          "name": "stdout",
          "text": [
            "Valori: 1 2 3 4 5 6\n",
            "estremo 1: 1\n",
            "estremo 2: 3\n",
            "[1, 2, 3]\n"
          ]
        }
      ]
    },
    {
      "cell_type": "markdown",
      "metadata": {
        "id": "yI8o8xD4Ab7Z"
      },
      "source": [
        "6. scrivere una funzione chiamata confrontaListe che date due liste restituisca True se le due liste sono uguali, False altrimenti. Utilizzare poi la funzione in un programma che dica se una lista di interi è palindroma, cioè se può essere letta indifferentemente da sinistra a destra e da destra a sinistra. Ad esempio la lista [1, 2, 3, 4, 3, 2, 1] è palindroma, la lista [1, 2, 3, 4, 3,1, 2] non lo è."
      ]
    },
    {
      "cell_type": "code",
      "metadata": {
        "colab": {
          "base_uri": "https://localhost:8080/"
        },
        "id": "yDc5F_W1AeZk",
        "outputId": "424981d1-1324-4741-c5c9-0c3cd5ee0ab1"
      },
      "source": [
        "def confrontaListe(x,y):\n",
        "  if x == y:\n",
        "    return True\n",
        "  else:\n",
        "    return False\n",
        "lst1 = [int(i) for i in input(\"Valori: \").split()]\n",
        "lst2 = lst1[:]\n",
        "lst2.reverse()\n",
        "print(lst1)\n",
        "print(lst2)\n",
        "print(confrontaListe(lst1,lst2))"
      ],
      "execution_count": 55,
      "outputs": [
        {
          "output_type": "stream",
          "name": "stdout",
          "text": [
            "Valori: 1 2 1\n",
            "[1, 2, 1]\n",
            "[1, 2, 1]\n",
            "True\n"
          ]
        }
      ]
    },
    {
      "cell_type": "markdown",
      "metadata": {
        "id": "psAEbf6pDOah"
      },
      "source": [
        "7. scrivere una funzione chiamata celsiusToFahrenheit che data una temperatura in gradi Celsius restituisca il valore convertito in gradi Fahrenheit (per ulteriori info, google it). Scrivere poi un programma che data una lista di temperature in gradi Celsius,inserita dall'utente, converta tutte le temperature in gradi Fahrenheit."
      ]
    },
    {
      "cell_type": "code",
      "metadata": {
        "colab": {
          "base_uri": "https://localhost:8080/"
        },
        "id": "LYN03gHxDPTx",
        "outputId": "02fa8b72-5591-4fae-d716-6181c7a5b4a7"
      },
      "source": [
        "def celsiusToFahrenheit(x):\n",
        "  return [(i * 9/5) + 32 for i in x]\n",
        "lst = [int(i) for i in input(\"Valori: \").split()]\n",
        "print(celsiusToFahrenheit(lst))\n"
      ],
      "execution_count": 57,
      "outputs": [
        {
          "output_type": "stream",
          "name": "stdout",
          "text": [
            "Valori: 15 250 30 29\n",
            "[59.0, 482.0, 86.0, 84.2]\n"
          ]
        }
      ]
    },
    {
      "cell_type": "markdown",
      "metadata": {
        "id": "t-hWHsDGEi2N"
      },
      "source": [
        "8. scrivere una funzione chiamata IMC che calcoli l'Indice di Massa Corporea a partire dal peso (in kg) e dall'altezza (in m). Utilizzare poi la funzione per scrivere un programma che date tre liste, contenente la prima una serie di nomi, la seconda una serie di pesi e la terza una serie di altezze, produca una quarta lista contenente i valori di IMC corrispondenti. Visualizzare poi i risultati nel seguente modo: \"<nome> pesa <peso kg, misura <altezza> m ed ha un IMC di <IMC>\" ( i valori nelle parentesi angolari vanno presi ovviamente dalle liste)\n"
      ]
    },
    {
      "cell_type": "code",
      "metadata": {
        "colab": {
          "base_uri": "https://localhost:8080/"
        },
        "id": "JoHT3-ZnEjaK",
        "outputId": "23cecb54-dd8d-4c19-cd9d-790b6763005d"
      },
      "source": [
        "def IMC(x,y):\n",
        "  return x/(y**2)\n",
        "names = [i for i in input(\"Nome: \").split()]\n",
        "weights = [float(i) for i in input(\"Peso: \").split()]\n",
        "heights = [float(i) for i in input(\"Altezza: \").split()]\n",
        "IMClist = [IMC(weights[i],heights[i]) for i in range(len(weights))]\n",
        "for i in range(len(names)):\n",
        "  print(\"%s pesa %f kg, misura %f m ed ha un IMC di %f\" %(names[i],weights[i],heights[i],IMClist[i]))"
      ],
      "execution_count": 61,
      "outputs": [
        {
          "output_type": "stream",
          "name": "stdout",
          "text": [
            "Nome: Gino Pino Rino\n",
            "Peso: 44 50 20\n",
            "Altezza: 1.64 1.70 1\n",
            "Gino pesa 44.000000, misura 1.640000 ed ha un IMC di 16.359310\n",
            "Pino pesa 50.000000, misura 1.700000 ed ha un IMC di 17.301038\n",
            "Rino pesa 20.000000, misura 1.000000 ed ha un IMC di 20.000000\n"
          ]
        }
      ]
    },
    {
      "cell_type": "markdown",
      "metadata": {
        "id": "GFxl-KEjH078"
      },
      "source": [
        "9: scrivere una lambda function per estrarre da una lista di numeri interi tutti i valori pari."
      ]
    },
    {
      "cell_type": "code",
      "metadata": {
        "colab": {
          "base_uri": "https://localhost:8080/"
        },
        "id": "t46zkkzxH1Sc",
        "outputId": "b654d990-b1fa-4b3d-9cd2-c101855c4fa4"
      },
      "source": [
        "par = lambda x: [i for i in x if i % 2 == 0] \n",
        "lst1 = [int(i) for i in input(\"Valori: \").split()]\n",
        "print(par(lst1))"
      ],
      "execution_count": 64,
      "outputs": [
        {
          "output_type": "stream",
          "name": "stdout",
          "text": [
            "Valori: 1 2 3 4 5 6 7 8 9 10\n",
            "[2, 4, 6, 8, 10]\n"
          ]
        }
      ]
    }
  ]
}
