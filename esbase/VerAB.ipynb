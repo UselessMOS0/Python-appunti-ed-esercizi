{
  "nbformat": 4,
  "nbformat_minor": 0,
  "metadata": {
    "colab": {
      "name": "VerAB.ipynb",
      "provenance": [],
      "collapsed_sections": []
    },
    "kernelspec": {
      "name": "python3",
      "display_name": "Python 3"
    },
    "language_info": {
      "name": "python"
    }
  },
  "cells": [
    {
      "cell_type": "markdown",
      "metadata": {
        "id": "tSccDNs438k2"
      },
      "source": [
        "Ver A"
      ]
    },
    {
      "cell_type": "code",
      "metadata": {
        "id": "-jRzEyq0SQSB"
      },
      "source": [
        "base = float(input())\n",
        "altezza = float(input())\n",
        "profondita = float(input())\n",
        "volume = base * altezza * profondita\n",
        "print(round(volume,2))"
      ],
      "execution_count": null,
      "outputs": []
    },
    {
      "cell_type": "code",
      "metadata": {
        "colab": {
          "base_uri": "https://localhost:8080/"
        },
        "id": "NHRrwHQFTBNM",
        "outputId": "39af3616-e023-4c9a-e6f7-76acfaf51f68"
      },
      "source": [
        "base = float(input())\n",
        "if base <= 0:\n",
        "  print('errore base')\n",
        "else:\n",
        "   altezza = float(input())\n",
        "   if altezza <= 0:\n",
        "     print('errore altezza')\n",
        "   else:\n",
        "     profondita = float(input())\n",
        "     if profondita <= 0:\n",
        "       print('errore profondita')\n",
        "     else:\n",
        "       volume = base * altezza * profondita\n",
        "       print(round(volume,2))\n",
        "     "
      ],
      "execution_count": null,
      "outputs": [
        {
          "output_type": "stream",
          "name": "stdout",
          "text": [
            "1\n",
            "2\n",
            "4\n",
            "8.0\n"
          ]
        }
      ]
    },
    {
      "cell_type": "code",
      "metadata": {
        "colab": {
          "base_uri": "https://localhost:8080/"
        },
        "id": "8Nu1DbW7Venc",
        "outputId": "f09abf49-5337-4864-88f6-e571d4c023d6"
      },
      "source": [
        "n = int(input())\n",
        "quadratiperfetti = []\n",
        "i = 1\n",
        "while i**2 < n:\n",
        "  quadratiperfetti.append(i**2)\n",
        "  i+=1\n",
        "print(quadratiperfetti)"
      ],
      "execution_count": null,
      "outputs": [
        {
          "output_type": "stream",
          "name": "stdout",
          "text": [
            "230\n",
            "[1, 4, 9, 16, 25, 36, 49, 64, 81, 100, 121, 144, 169, 196, 225]\n"
          ]
        }
      ]
    },
    {
      "cell_type": "code",
      "metadata": {
        "colab": {
          "base_uri": "https://localhost:8080/"
        },
        "id": "8VJXGKgP0Y6Y",
        "outputId": "fc58bc59-19e2-4417-c7cb-d174289927a5"
      },
      "source": [
        "lista = [x for x in range(int(input()),int(input())+1)]\n",
        "print(lista)\n",
        "lista.reverse()\n",
        "print(lista)"
      ],
      "execution_count": 5,
      "outputs": [
        {
          "output_type": "stream",
          "name": "stdout",
          "text": [
            "2\n",
            "13\n",
            "[2, 3, 4, 5, 6, 7, 8, 9, 10, 11, 12, 13]\n",
            "[13, 12, 11, 10, 9, 8, 7, 6, 5, 4, 3, 2]\n"
          ]
        }
      ]
    },
    {
      "cell_type": "code",
      "metadata": {
        "id": "9d2m76oAZKu9",
        "colab": {
          "base_uri": "https://localhost:8080/"
        },
        "outputId": "3d6be06f-5ace-4508-8432-53dca1652ea6"
      },
      "source": [
        "tutti = [x for x in range(-30,30) if x % 2 == 0]\n",
        "positivi = tutti[15:]\n",
        "negativi = tutti[:15]\n",
        "print(tutti,positivi,negativi)"
      ],
      "execution_count": 6,
      "outputs": [
        {
          "output_type": "stream",
          "name": "stdout",
          "text": [
            "[0, 2, 4, 6, 8, 10, 12, 14, 16, 18, 20, 22, 24, 26, 28] [-30, -28, -26, -24, -22, -20, -18, -16, -14, -12, -10, -8, -6, -4, -2]\n"
          ]
        }
      ]
    },
    {
      "cell_type": "code",
      "metadata": {
        "colab": {
          "base_uri": "https://localhost:8080/"
        },
        "id": "8zpZ2SID1eQ8",
        "outputId": "632e82db-3b82-4656-f60a-cebc38af850a"
      },
      "source": [
        "import random\n",
        "n = [random.randrange(0,100,2) for i in range(100)]\n",
        "n = list(map(lambda x: x**2,n))\n",
        "print(n)"
      ],
      "execution_count": 20,
      "outputs": [
        {
          "output_type": "stream",
          "name": "stdout",
          "text": [
            "[6400, 576, 400, 9216, 324, 5776, 16, 4096, 36, 1600, 2500, 2116, 1444, 1156, 1764, 324, 900, 8100, 784, 8464, 36, 676, 3364, 2500, 5184, 64, 8100, 5776, 1024, 9216, 6400, 1444, 6084, 7056, 324, 5776, 5776, 5476, 64, 2304, 3844, 6084, 5184, 9604, 4096, 1156, 6400, 4356, 5776, 100, 3844, 2916, 900, 8836, 6724, 3844, 6400, 1156, 576, 8836, 1156, 2916, 9216, 9604, 1600, 144, 6400, 16, 7744, 3844, 256, 1764, 1024, 2704, 1156, 3600, 2500, 4624, 484, 1024, 576, 5476, 900, 196, 6724, 5776, 484, 1764, 2304, 5184, 4356, 8464, 7744, 1024, 2116, 676, 4356, 1936, 3600, 6400]\n"
          ]
        }
      ]
    },
    {
      "cell_type": "code",
      "metadata": {
        "colab": {
          "base_uri": "https://localhost:8080/"
        },
        "id": "bns5qUKV2uWf",
        "outputId": "120e85ee-99f5-4f03-e182-894d52778877"
      },
      "source": [
        "n = [random.randrange(0,100,2) for i in range(100)]\n",
        "n = list(filter(lambda x: x % 6 != 0,n))\n",
        "print(n)"
      ],
      "execution_count": 21,
      "outputs": [
        {
          "output_type": "stream",
          "name": "stdout",
          "text": [
            "[86, 20, 32, 92, 68, 38, 32, 4, 82, 4, 64, 22, 20, 14, 74, 98, 26, 22, 94, 26, 64, 74, 50, 4, 88, 56, 58, 76, 32, 64, 34, 68, 70, 10, 44, 74, 98, 32, 70, 62, 28, 98, 62, 40, 86, 56, 14, 74, 74, 76, 22, 22, 64, 94, 94, 2, 56, 76, 10, 74, 28, 44, 98]\n"
          ]
        }
      ]
    },
    {
      "cell_type": "code",
      "metadata": {
        "colab": {
          "base_uri": "https://localhost:8080/"
        },
        "id": "xfM-PQuV28hB",
        "outputId": "e7222f68-2c2f-4ffc-88a4-c70d72854682"
      },
      "source": [
        "TreniMR = {'9645':{'partenza':'16.00','arrivo':'19.10'},'9647':{'partenza':'16.30','arrivo':'19.40'}}\n",
        "trenosrc = input()\n",
        "if trenosrc not in TreniMR:\n",
        "  print('treno non trovato')\n",
        "else:\n",
        "  print(TreniMR[trenosrc])"
      ],
      "execution_count": 24,
      "outputs": [
        {
          "output_type": "stream",
          "name": "stdout",
          "text": [
            "9645\n",
            "16.00\n"
          ]
        }
      ]
    },
    {
      "cell_type": "markdown",
      "metadata": {
        "id": "DlRokDwz36Jb"
      },
      "source": [
        "Ver B"
      ]
    },
    {
      "cell_type": "code",
      "metadata": {
        "colab": {
          "base_uri": "https://localhost:8080/"
        },
        "id": "uyzvp7V33_Yp",
        "outputId": "7837dc02-f5ce-4a6d-a948-7f002b2ba28a"
      },
      "source": [
        "a,b,c = (int(input()),int(input()),int(input()))\n",
        "delta = pow(b**2 -4*a*c,0.5)\n",
        "x1 = (-b + delta)/2*a\n",
        "x2 = (-b - delta)/2*a\n",
        "print(x1,x2)"
      ],
      "execution_count": 29,
      "outputs": [
        {
          "output_type": "stream",
          "name": "stdout",
          "text": [
            "1\n",
            "-7\n",
            "10\n",
            "5.0 2.0\n"
          ]
        }
      ]
    },
    {
      "cell_type": "code",
      "metadata": {
        "id": "SpHOIqDF5qcF"
      },
      "source": [
        "a,b,c = (int(input()),int(input()),int(input()))\n",
        "if a = 0 or b = 0 or c = 0:\n",
        "  print('cambia valori')\n",
        "else:\n",
        "  delta = pow(b**2 -4*a*c,0.5)\n",
        "  x1 = (-b + delta)/2*a\n",
        "  x2 = (-b - delta)/2*a\n",
        "  print(x1,x2)"
      ],
      "execution_count": null,
      "outputs": []
    },
    {
      "cell_type": "code",
      "metadata": {
        "colab": {
          "base_uri": "https://localhost:8080/"
        },
        "id": "qLt_uYLl8whb",
        "outputId": "abb5d142-f3d0-41f7-907c-1eca1d83caae"
      },
      "source": [
        "multipli = []\n",
        "n = int(input())\n",
        "i = 0 \n",
        "while i*10 < n:\n",
        "  multipli.append(i*10)\n",
        "  i+=1\n",
        "print(multipli)"
      ],
      "execution_count": 30,
      "outputs": [
        {
          "output_type": "stream",
          "name": "stdout",
          "text": [
            "190\n",
            "[0, 10, 20, 30, 40, 50, 60, 70, 80, 90, 100, 110, 120, 130, 140, 150, 160, 170, 180]\n"
          ]
        }
      ]
    },
    {
      "cell_type": "code",
      "metadata": {
        "colab": {
          "base_uri": "https://localhost:8080/"
        },
        "id": "D84F3G8k-l-0",
        "outputId": "9284c726-41f4-4ca4-de97-e9206c1c1a34"
      },
      "source": [
        "even = [x for x in range(int(input())) if x%2 == 0]\n",
        "print(even)\n",
        "even.reverse()\n",
        "print(even)"
      ],
      "execution_count": 31,
      "outputs": [
        {
          "output_type": "stream",
          "name": "stdout",
          "text": [
            "14\n",
            "[0, 2, 4, 6, 8, 10, 12]\n",
            "[12, 10, 8, 6, 4, 2, 0]\n"
          ]
        }
      ]
    },
    {
      "cell_type": "code",
      "metadata": {
        "colab": {
          "base_uri": "https://localhost:8080/"
        },
        "id": "1DooqCjn_Sr1",
        "outputId": "8de018e1-13b1-4d6a-b4c9-4d66ad305247"
      },
      "source": [
        "tutti = [x for x in range(90) if x%2!=0]\n",
        "bassi = tutti[:22]\n",
        "alti = tutti[23:]\n",
        "print(tutti,bassi,alti)"
      ],
      "execution_count": 34,
      "outputs": [
        {
          "output_type": "stream",
          "name": "stdout",
          "text": [
            "[1, 3, 5, 7, 9, 11, 13, 15, 17, 19, 21, 23, 25, 27, 29, 31, 33, 35, 37, 39, 41, 43, 45, 47, 49, 51, 53, 55, 57, 59, 61, 63, 65, 67, 69, 71, 73, 75, 77, 79, 81, 83, 85, 87, 89] [1, 3, 5, 7, 9, 11, 13, 15, 17, 19, 21, 23, 25, 27, 29, 31, 33, 35, 37, 39, 41, 43] [47, 49, 51, 53, 55, 57, 59, 61, 63, 65, 67, 69, 71, 73, 75, 77, 79, 81, 83, 85, 87, 89]\n"
          ]
        }
      ]
    },
    {
      "cell_type": "code",
      "metadata": {
        "colab": {
          "base_uri": "https://localhost:8080/"
        },
        "id": "PJsj81IjBgKs",
        "outputId": "c11b7609-0c92-458f-d015-27bf9da28299"
      },
      "source": [
        "def volumeCubo(m):\n",
        "  return m ** 3\n",
        "def pesoCubo(m,d):\n",
        "  return volumeCubo(m) * d * 1000\n",
        "print(pesoCubo(1,2.7)  , 'kg')"
      ],
      "execution_count": 39,
      "outputs": [
        {
          "output_type": "stream",
          "name": "stdout",
          "text": [
            "2700.0 kg\n"
          ]
        }
      ]
    },
    {
      "cell_type": "code",
      "metadata": {
        "colab": {
          "base_uri": "https://localhost:8080/"
        },
        "id": "dhw92h2PbUEX",
        "outputId": "b26ca01d-c117-49dc-ef68-c38eba4e30da"
      },
      "source": [
        "lista = [random.randrange(0,1000,2) for i in range(100)]\n",
        "lista = [0 if x%6 == 0 else x for x in lista]\n",
        "print(lista)"
      ],
      "execution_count": 44,
      "outputs": [
        {
          "output_type": "stream",
          "name": "stdout",
          "text": [
            "[176, 898, 668, 0, 704, 622, 964, 340, 208, 194, 406, 0, 520, 0, 376, 116, 0, 974, 572, 734, 554, 0, 0, 868, 298, 950, 98, 526, 16, 0, 212, 0, 160, 860, 788, 0, 428, 28, 628, 988, 560, 908, 596, 734, 0, 374, 632, 0, 964, 220, 0, 440, 970, 152, 0, 820, 680, 0, 0, 760, 286, 826, 922, 562, 0, 0, 0, 502, 952, 850, 680, 848, 134, 212, 730, 0, 712, 0, 200, 0, 944, 940, 0, 0, 52, 890, 652, 158, 0, 0, 596, 346, 382, 0, 908, 0, 0, 470, 986, 560]\n"
          ]
        }
      ]
    },
    {
      "cell_type": "code",
      "metadata": {
        "colab": {
          "base_uri": "https://localhost:8080/"
        },
        "id": "KS3EDxegcgVL",
        "outputId": "9dbfcf5d-2941-4369-fa43-5ab5f903f687"
      },
      "source": [
        "lista = [random.randrange(0,1000,2) for i in range(100)]\n",
        "n = int(input())\n",
        "lista = list(filter(lambda x: x < n,lista))\n",
        "print(lista)"
      ],
      "execution_count": 45,
      "outputs": [
        {
          "output_type": "stream",
          "name": "stdout",
          "text": [
            "18\n",
            "[10]\n"
          ]
        }
      ]
    },
    {
      "cell_type": "code",
      "metadata": {
        "id": "RN0DWCT8czrF"
      },
      "source": [
        ""
      ],
      "execution_count": null,
      "outputs": []
    }
  ]
}
