{
  "nbformat": 4,
  "nbformat_minor": 0,
  "metadata": {
    "colab": {
      "name": "Esercizio4.ipynb",
      "provenance": [],
      "collapsed_sections": []
    },
    "kernelspec": {
      "name": "python3",
      "display_name": "Python 3"
    },
    "language_info": {
      "name": "python"
    }
  },
  "cells": [
    {
      "cell_type": "markdown",
      "metadata": {
        "id": "T9m7eOHNrxq4"
      },
      "source": [
        "1. scrivere una funzione chiamata media che dati due numeri restituisca la media. Utilizzare poi la funzione in un programma che acquisisca dall'utente due numeri e calcoli la media"
      ]
    },
    {
      "cell_type": "code",
      "metadata": {
        "colab": {
          "base_uri": "https://localhost:8080/"
        },
        "id": "rRg6OJ65rmpa",
        "outputId": "856e718a-2bf5-4e17-b18b-7b0514bdcb74"
      },
      "source": [
        "def media(x,y):\n",
        "  return(x+y)/2\n",
        "print(media(int(input()),int(input())))"
      ],
      "execution_count": null,
      "outputs": [
        {
          "output_type": "stream",
          "name": "stdout",
          "text": [
            "5\n",
            "5\n",
            "5.0\n"
          ]
        }
      ]
    },
    {
      "cell_type": "markdown",
      "metadata": {
        "id": "pI3LJ6lesQIl"
      },
      "source": [
        "2. scrivere una funzione chiamata piuCorta che date due liste restituisca la lista con meno elementi. Utilizzare poi la funzione in un programma che acquisisca dall'utente due liste e visualizzi gli elementi della lista più corta."
      ]
    },
    {
      "cell_type": "code",
      "metadata": {
        "colab": {
          "base_uri": "https://localhost:8080/"
        },
        "id": "X1ovCLnZsSDE",
        "outputId": "b98c349f-3b8b-4da4-ba3c-e38b1be38ef2"
      },
      "source": [
        "def piuCorta(lista1,lista2):\n",
        "  return min(lista1,lista2)\n",
        "\n",
        "len1 = int(input(\"len lista 1: \"))\n",
        "len2 = int(input(\"len lista 2: \"))\n",
        "list1 = []\n",
        "list2= []\n",
        "for i in range(len1):\n",
        "  a = input(\"elemento numero %d: \" %i)\n",
        "  list1.append(a)\n",
        "for i in range(len2):\n",
        "  a = input(\"elemento numero %d: \" %i)\n",
        "  list2.append(a)\n",
        "\n",
        "print(piuCorta(list1,list2))\n",
        " "
      ],
      "execution_count": null,
      "outputs": [
        {
          "output_type": "stream",
          "name": "stdout",
          "text": [
            "len lista 1: 2\n",
            "len lista 2: 4\n",
            "elemento numero 0: a\n",
            "elemento numero 1: b\n",
            "elemento numero 0: c\n",
            "elemento numero 1: d\n",
            "elemento numero 2: e\n",
            "elemento numero 3: f\n",
            "['a', 'b']\n"
          ]
        }
      ]
    },
    {
      "cell_type": "markdown",
      "metadata": {
        "id": "vx0HP7ZQuI_0"
      },
      "source": [
        "3. scrivere una funzione chiamata costruisciLista che dati due numeri interi restituisca la lista formata da tutti i numeri interi compresi tra i due numeri dati. Utilizzare poi la funzione in un programma che acquisisca dall'utente due numeri e visualizzi la lista formata da tutti i numeri interi compresi tra i due numeri dati ma a partire dal più grande fino al più piccolo."
      ]
    },
    {
      "cell_type": "code",
      "metadata": {
        "colab": {
          "base_uri": "https://localhost:8080/"
        },
        "id": "wqGFy5rXuJWF",
        "outputId": "94436869-181c-4d09-bcb9-392e7b694aee"
      },
      "source": [
        "def costruisciLista(x,y):\n",
        "  a = min(x,y)\n",
        "  b= max(x,y)\n",
        "  lst = [i for i in range(a,b+1)]\n",
        "  return sorted(lst,reverse=True)\n",
        "print(costruisciLista(int(input()),int(input())))"
      ],
      "execution_count": null,
      "outputs": [
        {
          "output_type": "stream",
          "name": "stdout",
          "text": [
            "20\n",
            "2\n",
            "[20, 19, 18, 17, 16, 15, 14, 13, 12, 11, 10, 9, 8, 7, 6, 5, 4, 3, 2]\n"
          ]
        }
      ]
    },
    {
      "cell_type": "markdown",
      "metadata": {
        "id": "IyWdVtPxwSPW"
      },
      "source": [
        "4. scrivere una funzione chiamata valoreAssoluto che dato un numero restituisca il suo valore assoluto. Utilizzare poi questa funzione per determinare il valore assoluto degli elementi di una lista inserita dall'utente."
      ]
    },
    {
      "cell_type": "code",
      "metadata": {
        "colab": {
          "base_uri": "https://localhost:8080/"
        },
        "id": "btDtysKAwSy0",
        "outputId": "a3013a88-008d-46fe-fcc0-ae0ccca472ac"
      },
      "source": [
        "def valoreAssoluto(x):\n",
        "  return [abs(a) for a in x]\n",
        "x = int(input(\"elementi lista: \"))\n",
        "lst = [int(input(\"inserisci numero: \")) for i in range(x)]\n",
        "\n",
        "         \n",
        "print(valoreAssoluto(lst))\n"
      ],
      "execution_count": null,
      "outputs": [
        {
          "output_type": "stream",
          "name": "stdout",
          "text": [
            "elementi lista: 5\n",
            "inserisci numero: -1\n",
            "inserisci numero: -2\n",
            "inserisci numero: -3\n",
            "inserisci numero: -4\n",
            "inserisci numero: -3\n",
            "[1, 2, 3, 4, 3]\n"
          ]
        }
      ]
    },
    {
      "cell_type": "markdown",
      "metadata": {
        "id": "AH7SDOB__U1P"
      },
      "source": [
        "5. scrivere una funzione chiamata scambia che data una lista scambi il primo elemento con l'ultimo, il secondo con il penultimo e così via. Utilizzare poi la funzione in un programma che acquisisca dall'utente una lista di 10 elementi e li visualizzi scambiati."
      ]
    },
    {
      "cell_type": "code",
      "metadata": {
        "colab": {
          "base_uri": "https://localhost:8080/"
        },
        "id": "JzwVcEyp_Xh4",
        "outputId": "c22c1608-b1ee-4bc7-8da4-47a4b4baa8ec"
      },
      "source": [
        "def scambia(lst):\n",
        "  lstcopia= lst[:]\n",
        "  for i in range(10):\n",
        "    lst[i] = lstcopia[9-i]\n",
        "  return lst\n",
        " \n",
        "lst = [input(\"inserisci un elemento: \") for i in range(10)]\n",
        "print(scambia(lst))"
      ],
      "execution_count": null,
      "outputs": [
        {
          "output_type": "stream",
          "name": "stdout",
          "text": [
            "inserisci un elemento: gino\n",
            "inserisci un elemento: 2\n",
            "inserisci un elemento: 3\n",
            "inserisci un elemento: 4\n",
            "inserisci un elemento: 5\n",
            "inserisci un elemento: 6\n",
            "inserisci un elemento: 7\n",
            "inserisci un elemento: 8\n",
            "inserisci un elemento: 9\n",
            "inserisci un elemento: ciao\n",
            "['ciao', '9', '8', '7', '6', '5', '4', '3', '2', 'gino']\n"
          ]
        }
      ]
    },
    {
      "cell_type": "markdown",
      "metadata": {
        "id": "dkh2SYSEBSEA"
      },
      "source": [
        "6. scrivere una funzione lambda che dati due numeri calcoli la loro somma. Utilizzare la funzione in un programma che chieda all'utente due numeri interi e visualizzi la loro somma."
      ]
    },
    {
      "cell_type": "code",
      "metadata": {
        "colab": {
          "base_uri": "https://localhost:8080/"
        },
        "id": "HPwOW6RyBU6A",
        "outputId": "7d7ad3d9-3110-402b-98d3-fc5b7dd77e90"
      },
      "source": [
        "sum = lambda x,y: x+y\n",
        "print(sum(int(input()),int(input())))"
      ],
      "execution_count": null,
      "outputs": [
        {
          "output_type": "stream",
          "name": "stdout",
          "text": [
            "3\n",
            "6\n",
            "9\n"
          ]
        }
      ]
    },
    {
      "cell_type": "markdown",
      "metadata": {
        "id": "gX-Qw8N7Bxg_"
      },
      "source": [
        "7. scrivere un programma che utilizzi una lambda function per aumentare di 10 unità tutti gli elementi di una lista di interi inserita dall'utente."
      ]
    },
    {
      "cell_type": "code",
      "metadata": {
        "colab": {
          "base_uri": "https://localhost:8080/"
        },
        "id": "EVTg4FFuB0xo",
        "outputId": "ba54e6a3-19a9-47d0-efec-a3954fe69dca"
      },
      "source": [
        "plus10 = lambda lst: [a+10 for a in lst]\n",
        "\n",
        "lst = []\n",
        "x = int(input())\n",
        "for i in range(x):\n",
        "  a = int(input())\n",
        "  lst.append(a)\n",
        "print(plus10(lst))\n"
      ],
      "execution_count": null,
      "outputs": [
        {
          "output_type": "stream",
          "name": "stdout",
          "text": [
            "3\n",
            "2\n",
            "1\n",
            "2\n",
            "[12, 11, 12]\n"
          ]
        }
      ]
    },
    {
      "cell_type": "markdown",
      "metadata": {
        "id": "WKd4fdoOKFG-"
      },
      "source": [
        "8. scrivere una funzione lambda che sostituisca il valore 0 se il parametro è negativo, il valore del parametro se è positivo. Utilizzare poi la funzione in un programma che chieda all'utente i 10 elementi di una lista e visualizzi la lista con il valore 0 al posto dei numeri negativi."
      ]
    },
    {
      "cell_type": "code",
      "metadata": {
        "colab": {
          "base_uri": "https://localhost:8080/"
        },
        "id": "f5J8fEKqKF7-",
        "outputId": "f1de0042-7298-4c71-ab03-c529273e595d"
      },
      "source": [
        "#non risolto\n",
        "onlyp = lambda x:[i for i in x] \n",
        "lst = []\n",
        "x = int(input())\n",
        "for i in range(x):\n",
        "  a = int(input())\n",
        "  lst.append(a)\n",
        "print(onlyp(lst))"
      ],
      "execution_count": 19,
      "outputs": [
        {
          "output_type": "stream",
          "name": "stdout",
          "text": [
            "2\n",
            "1\n",
            "-2\n",
            "[1, -2]\n"
          ]
        }
      ]
    },
    {
      "cell_type": "markdown",
      "metadata": {
        "id": "dd_OYi7rOdgo"
      },
      "source": [
        "9. scrivere un programma che calcoli il fattoriale di un numero utilizzando una lambda function. Provare a realizzare una lambda function ricorsiva (per la ricorsione, google it...)"
      ]
    },
    {
      "cell_type": "code",
      "metadata": {
        "colab": {
          "base_uri": "https://localhost:8080/"
        },
        "id": "64Bnc90cOgCj",
        "outputId": "a5897ad0-9620-4b5f-f60c-89b8d07af0cb"
      },
      "source": [
        "fattoriale = lambda n: 1 if n == 0 else n * fattoriale(n-1)\n",
        "print(fattoriale(4))"
      ],
      "execution_count": 22,
      "outputs": [
        {
          "output_type": "stream",
          "name": "stdout",
          "text": [
            "24\n"
          ]
        }
      ]
    }
  ]
}
