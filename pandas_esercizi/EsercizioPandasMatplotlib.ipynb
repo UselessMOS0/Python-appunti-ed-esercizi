{
  "nbformat": 4,
  "nbformat_minor": 0,
  "metadata": {
    "colab": {
      "name": "EsercizioPandasMatplotlib.ipynb",
      "provenance": [],
      "collapsed_sections": []
    },
    "kernelspec": {
      "name": "python3",
      "display_name": "Python 3"
    },
    "language_info": {
      "name": "python"
    }
  },
  "cells": [
    {
      "cell_type": "code",
      "metadata": {
        "colab": {
          "base_uri": "https://localhost:8080/",
          "height": 423
        },
        "id": "h7WYuR7cdu3t",
        "outputId": "7d0987c0-a966-4308-a8d4-5a78c3382f99"
      },
      "source": [
        "import pandas as pd \n",
        "import matplotlib.pyplot as plt\n",
        "\n",
        "df = pd.read_csv('https://raw.githubusercontent.com/wtitze/4E/main/ristoranti.csv')\n",
        "df"
      ],
      "execution_count": 2,
      "outputs": [
        {
          "output_type": "execute_result",
          "data": {
            "text/html": [
              "<div>\n",
              "<style scoped>\n",
              "    .dataframe tbody tr th:only-of-type {\n",
              "        vertical-align: middle;\n",
              "    }\n",
              "\n",
              "    .dataframe tbody tr th {\n",
              "        vertical-align: top;\n",
              "    }\n",
              "\n",
              "    .dataframe thead th {\n",
              "        text-align: right;\n",
              "    }\n",
              "</style>\n",
              "<table border=\"1\" class=\"dataframe\">\n",
              "  <thead>\n",
              "    <tr style=\"text-align: right;\">\n",
              "      <th></th>\n",
              "      <th>N</th>\n",
              "      <th>address</th>\n",
              "      <th>borough</th>\n",
              "      <th>cuisine</th>\n",
              "      <th>grades</th>\n",
              "      <th>name</th>\n",
              "      <th>restaurant_id</th>\n",
              "    </tr>\n",
              "  </thead>\n",
              "  <tbody>\n",
              "    <tr>\n",
              "      <th>0</th>\n",
              "      <td>0</td>\n",
              "      <td>{'building': '8825', 'coord': [-73.8803827, 40...</td>\n",
              "      <td>Queens</td>\n",
              "      <td>American</td>\n",
              "      <td>[{'date': datetime.datetime(2014, 11, 15, 0, 0...</td>\n",
              "      <td>Brunos On The Boulevard</td>\n",
              "      <td>40356151</td>\n",
              "    </tr>\n",
              "    <tr>\n",
              "      <th>1</th>\n",
              "      <td>1</td>\n",
              "      <td>{'building': '156-71', 'coord': [-73.840437, 4...</td>\n",
              "      <td>Queens</td>\n",
              "      <td>Pizza/Italian</td>\n",
              "      <td>[{'date': datetime.datetime(2014, 10, 29, 0, 0...</td>\n",
              "      <td>New Park Pizzeria &amp; Restaurant</td>\n",
              "      <td>40364744</td>\n",
              "    </tr>\n",
              "    <tr>\n",
              "      <th>2</th>\n",
              "      <td>2</td>\n",
              "      <td>{'building': '6409', 'coord': [-74.00528899999...</td>\n",
              "      <td>Brooklyn</td>\n",
              "      <td>American</td>\n",
              "      <td>[{'date': datetime.datetime(2014, 7, 18, 0, 0)...</td>\n",
              "      <td>Regina Caterers</td>\n",
              "      <td>40356649</td>\n",
              "    </tr>\n",
              "    <tr>\n",
              "      <th>3</th>\n",
              "      <td>3</td>\n",
              "      <td>{'building': '2491', 'coord': [-74.1459332, 40...</td>\n",
              "      <td>Staten Island</td>\n",
              "      <td>Delicatessen</td>\n",
              "      <td>[{'date': datetime.datetime(2015, 1, 9, 0, 0),...</td>\n",
              "      <td>Bagels N Buns</td>\n",
              "      <td>40363427</td>\n",
              "    </tr>\n",
              "    <tr>\n",
              "      <th>4</th>\n",
              "      <td>4</td>\n",
              "      <td>{'building': '56', 'coord': [-74.004758, 40.74...</td>\n",
              "      <td>Manhattan</td>\n",
              "      <td>American</td>\n",
              "      <td>[{'date': datetime.datetime(2014, 6, 10, 0, 0)...</td>\n",
              "      <td>Old Homestead</td>\n",
              "      <td>40364715</td>\n",
              "    </tr>\n",
              "    <tr>\n",
              "      <th>...</th>\n",
              "      <td>...</td>\n",
              "      <td>...</td>\n",
              "      <td>...</td>\n",
              "      <td>...</td>\n",
              "      <td>...</td>\n",
              "      <td>...</td>\n",
              "      <td>...</td>\n",
              "    </tr>\n",
              "    <tr>\n",
              "      <th>25354</th>\n",
              "      <td>25354</td>\n",
              "      <td>{'building': 'ONE', 'coord': [-81.664363600000...</td>\n",
              "      <td>Queens</td>\n",
              "      <td>Other</td>\n",
              "      <td>[]</td>\n",
              "      <td>Camden Food Express</td>\n",
              "      <td>50018316</td>\n",
              "    </tr>\n",
              "    <tr>\n",
              "      <th>25355</th>\n",
              "      <td>25355</td>\n",
              "      <td>{'building': '700', 'coord': [-73.988230600000...</td>\n",
              "      <td>Manhattan</td>\n",
              "      <td>Other</td>\n",
              "      <td>[]</td>\n",
              "      <td>Wooly'S Nyc</td>\n",
              "      <td>50018495</td>\n",
              "    </tr>\n",
              "    <tr>\n",
              "      <th>25356</th>\n",
              "      <td>25356</td>\n",
              "      <td>{'building': '2144', 'coord': [-73.9552561, 40...</td>\n",
              "      <td>Manhattan</td>\n",
              "      <td>Other</td>\n",
              "      <td>[]</td>\n",
              "      <td>Rafi 786</td>\n",
              "      <td>50018553</td>\n",
              "    </tr>\n",
              "    <tr>\n",
              "      <th>25357</th>\n",
              "      <td>25357</td>\n",
              "      <td>{'building': '1448', 'coord': [-73.93032629999...</td>\n",
              "      <td>Brooklyn</td>\n",
              "      <td>Other</td>\n",
              "      <td>[]</td>\n",
              "      <td>NaN</td>\n",
              "      <td>50018721</td>\n",
              "    </tr>\n",
              "    <tr>\n",
              "      <th>25358</th>\n",
              "      <td>25358</td>\n",
              "      <td>{'building': '167', 'coord': [-73.9833565, 40....</td>\n",
              "      <td>Manhattan</td>\n",
              "      <td>Other</td>\n",
              "      <td>[]</td>\n",
              "      <td>Buttercup Bake Shop</td>\n",
              "      <td>50018710</td>\n",
              "    </tr>\n",
              "  </tbody>\n",
              "</table>\n",
              "<p>25359 rows × 7 columns</p>\n",
              "</div>"
            ],
            "text/plain": [
              "           N  ... restaurant_id\n",
              "0          0  ...      40356151\n",
              "1          1  ...      40364744\n",
              "2          2  ...      40356649\n",
              "3          3  ...      40363427\n",
              "4          4  ...      40364715\n",
              "...      ...  ...           ...\n",
              "25354  25354  ...      50018316\n",
              "25355  25355  ...      50018495\n",
              "25356  25356  ...      50018553\n",
              "25357  25357  ...      50018721\n",
              "25358  25358  ...      50018710\n",
              "\n",
              "[25359 rows x 7 columns]"
            ]
          },
          "metadata": {},
          "execution_count": 2
        }
      ]
    },
    {
      "cell_type": "code",
      "metadata": {
        "colab": {
          "base_uri": "https://localhost:8080/",
          "height": 423
        },
        "id": "uhAXTh0Md8Mz",
        "outputId": "9efe0122-3970-48d7-c79a-77056b5ed8fe"
      },
      "source": [
        "df = df.filter(['borough','cuisine','name'])\n",
        "df"
      ],
      "execution_count": 3,
      "outputs": [
        {
          "output_type": "execute_result",
          "data": {
            "text/html": [
              "<div>\n",
              "<style scoped>\n",
              "    .dataframe tbody tr th:only-of-type {\n",
              "        vertical-align: middle;\n",
              "    }\n",
              "\n",
              "    .dataframe tbody tr th {\n",
              "        vertical-align: top;\n",
              "    }\n",
              "\n",
              "    .dataframe thead th {\n",
              "        text-align: right;\n",
              "    }\n",
              "</style>\n",
              "<table border=\"1\" class=\"dataframe\">\n",
              "  <thead>\n",
              "    <tr style=\"text-align: right;\">\n",
              "      <th></th>\n",
              "      <th>borough</th>\n",
              "      <th>cuisine</th>\n",
              "      <th>name</th>\n",
              "    </tr>\n",
              "  </thead>\n",
              "  <tbody>\n",
              "    <tr>\n",
              "      <th>0</th>\n",
              "      <td>Queens</td>\n",
              "      <td>American</td>\n",
              "      <td>Brunos On The Boulevard</td>\n",
              "    </tr>\n",
              "    <tr>\n",
              "      <th>1</th>\n",
              "      <td>Queens</td>\n",
              "      <td>Pizza/Italian</td>\n",
              "      <td>New Park Pizzeria &amp; Restaurant</td>\n",
              "    </tr>\n",
              "    <tr>\n",
              "      <th>2</th>\n",
              "      <td>Brooklyn</td>\n",
              "      <td>American</td>\n",
              "      <td>Regina Caterers</td>\n",
              "    </tr>\n",
              "    <tr>\n",
              "      <th>3</th>\n",
              "      <td>Staten Island</td>\n",
              "      <td>Delicatessen</td>\n",
              "      <td>Bagels N Buns</td>\n",
              "    </tr>\n",
              "    <tr>\n",
              "      <th>4</th>\n",
              "      <td>Manhattan</td>\n",
              "      <td>American</td>\n",
              "      <td>Old Homestead</td>\n",
              "    </tr>\n",
              "    <tr>\n",
              "      <th>...</th>\n",
              "      <td>...</td>\n",
              "      <td>...</td>\n",
              "      <td>...</td>\n",
              "    </tr>\n",
              "    <tr>\n",
              "      <th>25354</th>\n",
              "      <td>Queens</td>\n",
              "      <td>Other</td>\n",
              "      <td>Camden Food Express</td>\n",
              "    </tr>\n",
              "    <tr>\n",
              "      <th>25355</th>\n",
              "      <td>Manhattan</td>\n",
              "      <td>Other</td>\n",
              "      <td>Wooly'S Nyc</td>\n",
              "    </tr>\n",
              "    <tr>\n",
              "      <th>25356</th>\n",
              "      <td>Manhattan</td>\n",
              "      <td>Other</td>\n",
              "      <td>Rafi 786</td>\n",
              "    </tr>\n",
              "    <tr>\n",
              "      <th>25357</th>\n",
              "      <td>Brooklyn</td>\n",
              "      <td>Other</td>\n",
              "      <td>NaN</td>\n",
              "    </tr>\n",
              "    <tr>\n",
              "      <th>25358</th>\n",
              "      <td>Manhattan</td>\n",
              "      <td>Other</td>\n",
              "      <td>Buttercup Bake Shop</td>\n",
              "    </tr>\n",
              "  </tbody>\n",
              "</table>\n",
              "<p>25359 rows × 3 columns</p>\n",
              "</div>"
            ],
            "text/plain": [
              "             borough        cuisine                            name\n",
              "0             Queens       American         Brunos On The Boulevard\n",
              "1             Queens  Pizza/Italian  New Park Pizzeria & Restaurant\n",
              "2           Brooklyn       American                 Regina Caterers\n",
              "3      Staten Island   Delicatessen                   Bagels N Buns\n",
              "4          Manhattan       American                   Old Homestead\n",
              "...              ...            ...                             ...\n",
              "25354         Queens          Other             Camden Food Express\n",
              "25355      Manhattan          Other                    Wooly'S Nyc \n",
              "25356      Manhattan          Other                        Rafi 786\n",
              "25357       Brooklyn          Other                             NaN\n",
              "25358      Manhattan          Other             Buttercup Bake Shop\n",
              "\n",
              "[25359 rows x 3 columns]"
            ]
          },
          "metadata": {},
          "execution_count": 3
        }
      ]
    },
    {
      "cell_type": "code",
      "metadata": {
        "colab": {
          "base_uri": "https://localhost:8080/"
        },
        "id": "sZyDwMnvg90E",
        "outputId": "cde15d58-e118-4f32-9159-7c6661b6c491"
      },
      "source": [
        "dfmiss = df[df['borough']=='Missing']\n",
        "dfmiss.count()"
      ],
      "execution_count": null,
      "outputs": [
        {
          "output_type": "execute_result",
          "data": {
            "text/plain": [
              "borough    51\n",
              "cuisine    51\n",
              "name       51\n",
              "dtype: int64"
            ]
          },
          "metadata": {},
          "execution_count": 149
        }
      ]
    },
    {
      "cell_type": "code",
      "metadata": {
        "colab": {
          "base_uri": "https://localhost:8080/",
          "height": 50
        },
        "id": "tUBUlMLzhQmC",
        "outputId": "bbf8ba47-06a8-400b-b9a2-41b14c631300"
      },
      "source": [
        "import numpy as np\n",
        "df = df.replace('Missing',np.NaN)\n",
        "df[df['borough']==np.NaN]"
      ],
      "execution_count": 4,
      "outputs": [
        {
          "output_type": "execute_result",
          "data": {
            "text/html": [
              "<div>\n",
              "<style scoped>\n",
              "    .dataframe tbody tr th:only-of-type {\n",
              "        vertical-align: middle;\n",
              "    }\n",
              "\n",
              "    .dataframe tbody tr th {\n",
              "        vertical-align: top;\n",
              "    }\n",
              "\n",
              "    .dataframe thead th {\n",
              "        text-align: right;\n",
              "    }\n",
              "</style>\n",
              "<table border=\"1\" class=\"dataframe\">\n",
              "  <thead>\n",
              "    <tr style=\"text-align: right;\">\n",
              "      <th></th>\n",
              "      <th>borough</th>\n",
              "      <th>cuisine</th>\n",
              "      <th>name</th>\n",
              "    </tr>\n",
              "  </thead>\n",
              "  <tbody>\n",
              "  </tbody>\n",
              "</table>\n",
              "</div>"
            ],
            "text/plain": [
              "Empty DataFrame\n",
              "Columns: [borough, cuisine, name]\n",
              "Index: []"
            ]
          },
          "metadata": {},
          "execution_count": 4
        }
      ]
    },
    {
      "cell_type": "code",
      "metadata": {
        "colab": {
          "base_uri": "https://localhost:8080/",
          "height": 50
        },
        "id": "-XuZTQyHiTLU",
        "outputId": "c97d1941-f80d-41f3-966b-863d537b9c9a"
      },
      "source": [
        "df = df.drop(df[df['borough']==np.NaN].index)\n",
        "df[df['borough']==np.NaN]"
      ],
      "execution_count": 5,
      "outputs": [
        {
          "output_type": "execute_result",
          "data": {
            "text/html": [
              "<div>\n",
              "<style scoped>\n",
              "    .dataframe tbody tr th:only-of-type {\n",
              "        vertical-align: middle;\n",
              "    }\n",
              "\n",
              "    .dataframe tbody tr th {\n",
              "        vertical-align: top;\n",
              "    }\n",
              "\n",
              "    .dataframe thead th {\n",
              "        text-align: right;\n",
              "    }\n",
              "</style>\n",
              "<table border=\"1\" class=\"dataframe\">\n",
              "  <thead>\n",
              "    <tr style=\"text-align: right;\">\n",
              "      <th></th>\n",
              "      <th>borough</th>\n",
              "      <th>cuisine</th>\n",
              "      <th>name</th>\n",
              "    </tr>\n",
              "  </thead>\n",
              "  <tbody>\n",
              "  </tbody>\n",
              "</table>\n",
              "</div>"
            ],
            "text/plain": [
              "Empty DataFrame\n",
              "Columns: [borough, cuisine, name]\n",
              "Index: []"
            ]
          },
          "metadata": {},
          "execution_count": 5
        }
      ]
    },
    {
      "cell_type": "code",
      "metadata": {
        "colab": {
          "base_uri": "https://localhost:8080/"
        },
        "id": "1P9TjbQnju7q",
        "outputId": "4ceaa46a-5cae-4f99-c939-5fbc3a3a0b14"
      },
      "source": [
        "data = df.groupby('cuisine')['name'].count().sort_values(ascending=False)\n",
        "data"
      ],
      "execution_count": 6,
      "outputs": [
        {
          "output_type": "execute_result",
          "data": {
            "text/plain": [
              "cuisine\n",
              "American           6183\n",
              "Chinese            2418\n",
              "Café/Coffee/Tea    1214\n",
              "Pizza              1163\n",
              "Italian            1069\n",
              "                   ... \n",
              "Iranian               2\n",
              "Chilean               1\n",
              "Californian           1\n",
              "Polynesian            1\n",
              "Creole/Cajun          1\n",
              "Name: name, Length: 85, dtype: int64"
            ]
          },
          "metadata": {},
          "execution_count": 6
        }
      ]
    },
    {
      "cell_type": "code",
      "metadata": {
        "colab": {
          "base_uri": "https://localhost:8080/"
        },
        "id": "i0etk_owkY7q",
        "outputId": "6002e3d8-2079-40ce-af8a-75fa9763a13b"
      },
      "source": [
        "df.groupby('cuisine')['name'].count()[df.groupby('cuisine')['name'].count()==df.groupby('cuisine')['name'].count().max()]"
      ],
      "execution_count": 7,
      "outputs": [
        {
          "output_type": "execute_result",
          "data": {
            "text/plain": [
              "cuisine\n",
              "American    6183\n",
              "Name: name, dtype: int64"
            ]
          },
          "metadata": {},
          "execution_count": 7
        }
      ]
    },
    {
      "cell_type": "code",
      "metadata": {
        "colab": {
          "base_uri": "https://localhost:8080/",
          "height": 494
        },
        "id": "Znfp8V7Bk81s",
        "outputId": "ad813811-fe42-4b5f-8838-da9f60c85fdf"
      },
      "source": [
        "fig = plt.figure()\n",
        "ax = plt.axes()\n",
        "\n",
        "fig.autofmt_xdate(rotation=45)\n",
        "ax.bar(data.head(10).index,data.head(10).values)"
      ],
      "execution_count": 8,
      "outputs": [
        {
          "output_type": "execute_result",
          "data": {
            "text/plain": [
              "<BarContainer object of 10 artists>"
            ]
          },
          "metadata": {},
          "execution_count": 8
        },
        {
          "output_type": "display_data",
          "data": {
            "image/png": "[encoded data removed]",
            "text/plain": [
              "<Figure size 432x288 with 1 Axes>"
            ]
          },
          "metadata": {
            "needs_background": "light"
          }
        }
      ]
    },
    {
      "cell_type": "code",
      "metadata": {
        "id": "IUQ8oIi9l78j"
      },
      "source": [
        "slices = df.groupby('borough')['name'].count()"
      ],
      "execution_count": 9,
      "outputs": []
    },
    {
      "cell_type": "code",
      "metadata": {
        "colab": {
          "base_uri": "https://localhost:8080/",
          "height": 247
        },
        "id": "jHe7O6T7mLUS",
        "outputId": "1a6bfe9a-6bac-4dd5-947d-8c0572ac7ae9"
      },
      "source": [
        "fig = plt.figure()\n",
        "ax = plt.axes()\n",
        "\n",
        "ax.pie(slices.values,labels=slices.index)\n",
        "plt.show()"
      ],
      "execution_count": 10,
      "outputs": [
        {
          "output_type": "display_data",
          "data": {
            "image/png": "[encoded data removed]",
            "text/plain": [
              "<Figure size 432x288 with 1 Axes>"
            ]
          },
          "metadata": {}
        }
      ]
    },
    {
      "cell_type": "code",
      "metadata": {
        "id": "7Yitywm3mqDb",
        "colab": {
          "base_uri": "https://localhost:8080/",
          "height": 768
        },
        "outputId": "a4925143-1170-4e2e-9dfd-07bb5279fb14"
      },
      "source": [
        "fig, (ax1, ax2) = plt.subplots(1, 2)\n",
        "\n",
        "plt.rcParams.update({'font.size': 12})\n",
        "fig.autofmt_xdate(rotation='vertical')\n",
        "ax1.set_title('ristoranti per cucina')\n",
        "ax2.set_title('ristoranti per quartiere')\n",
        "\n",
        "ax1.bar(data.head(10).index,data.head(10).values)\n",
        "ax2.pie(slices.values,labels=slices.index)"
      ],
      "execution_count": 11,
      "outputs": [
        {
          "output_type": "execute_result",
          "data": {
            "text/plain": [
              "([<matplotlib.patches.Wedge at 0x7f3f200c4590>,\n",
              "  <matplotlib.patches.Wedge at 0x7f3f200d2dd0>,\n",
              "  <matplotlib.patches.Wedge at 0x7f3f200e0390>,\n",
              "  <matplotlib.patches.Wedge at 0x7f3f200e09d0>,\n",
              "  <matplotlib.patches.Wedge at 0x7f3f200ec850>],\n",
              " [Text(1.0540776617251624, 0.3145159503936392, 'Bronx'),\n",
              "  Text(0.2570202851700509, 1.0695515756666931, 'Brooklyn'),\n",
              "  Text(-1.0726320840524248, -0.24384505789815017, 'Manhattan'),\n",
              "  Text(0.6472414913546378, -0.8894259113996087, 'Queens'),\n",
              "  Text(1.092055363844366, -0.1319662165053988, 'Staten Island')])"
            ]
          },
          "metadata": {},
          "execution_count": 11
        },
        {
          "output_type": "display_data",
          "data": {
            "image/png": "[encoded data removed]",
            "text/plain": [
              "<Figure size 432x288 with 2 Axes>"
            ]
          },
          "metadata": {
            "needs_background": "light"
          }
        }
      ]
    },
    {
      "cell_type": "code",
      "metadata": {
        "colab": {
          "base_uri": "https://localhost:8080/",
          "height": 423
        },
        "id": "wDdjOqf6n1Vb",
        "outputId": "8e1d150f-edb7-479a-c318-28dbf171e5ff"
      },
      "source": [
        "df = df.replace(df[df['cuisine']!='American']['cuisine'].tolist(),'non American')\n",
        "df"
      ],
      "execution_count": 12,
      "outputs": [
        {
          "output_type": "execute_result",
          "data": {
            "text/html": [
              "<div>\n",
              "<style scoped>\n",
              "    .dataframe tbody tr th:only-of-type {\n",
              "        vertical-align: middle;\n",
              "    }\n",
              "\n",
              "    .dataframe tbody tr th {\n",
              "        vertical-align: top;\n",
              "    }\n",
              "\n",
              "    .dataframe thead th {\n",
              "        text-align: right;\n",
              "    }\n",
              "</style>\n",
              "<table border=\"1\" class=\"dataframe\">\n",
              "  <thead>\n",
              "    <tr style=\"text-align: right;\">\n",
              "      <th></th>\n",
              "      <th>borough</th>\n",
              "      <th>cuisine</th>\n",
              "      <th>name</th>\n",
              "    </tr>\n",
              "  </thead>\n",
              "  <tbody>\n",
              "    <tr>\n",
              "      <th>0</th>\n",
              "      <td>Queens</td>\n",
              "      <td>American</td>\n",
              "      <td>Brunos On The Boulevard</td>\n",
              "    </tr>\n",
              "    <tr>\n",
              "      <th>1</th>\n",
              "      <td>Queens</td>\n",
              "      <td>non American</td>\n",
              "      <td>New Park Pizzeria &amp; Restaurant</td>\n",
              "    </tr>\n",
              "    <tr>\n",
              "      <th>2</th>\n",
              "      <td>Brooklyn</td>\n",
              "      <td>American</td>\n",
              "      <td>Regina Caterers</td>\n",
              "    </tr>\n",
              "    <tr>\n",
              "      <th>3</th>\n",
              "      <td>Staten Island</td>\n",
              "      <td>non American</td>\n",
              "      <td>Bagels N Buns</td>\n",
              "    </tr>\n",
              "    <tr>\n",
              "      <th>4</th>\n",
              "      <td>Manhattan</td>\n",
              "      <td>American</td>\n",
              "      <td>Old Homestead</td>\n",
              "    </tr>\n",
              "    <tr>\n",
              "      <th>...</th>\n",
              "      <td>...</td>\n",
              "      <td>...</td>\n",
              "      <td>...</td>\n",
              "    </tr>\n",
              "    <tr>\n",
              "      <th>25354</th>\n",
              "      <td>Queens</td>\n",
              "      <td>non American</td>\n",
              "      <td>Camden Food Express</td>\n",
              "    </tr>\n",
              "    <tr>\n",
              "      <th>25355</th>\n",
              "      <td>Manhattan</td>\n",
              "      <td>non American</td>\n",
              "      <td>Wooly'S Nyc</td>\n",
              "    </tr>\n",
              "    <tr>\n",
              "      <th>25356</th>\n",
              "      <td>Manhattan</td>\n",
              "      <td>non American</td>\n",
              "      <td>Rafi 786</td>\n",
              "    </tr>\n",
              "    <tr>\n",
              "      <th>25357</th>\n",
              "      <td>Brooklyn</td>\n",
              "      <td>non American</td>\n",
              "      <td>NaN</td>\n",
              "    </tr>\n",
              "    <tr>\n",
              "      <th>25358</th>\n",
              "      <td>Manhattan</td>\n",
              "      <td>non American</td>\n",
              "      <td>Buttercup Bake Shop</td>\n",
              "    </tr>\n",
              "  </tbody>\n",
              "</table>\n",
              "<p>25359 rows × 3 columns</p>\n",
              "</div>"
            ],
            "text/plain": [
              "             borough       cuisine                            name\n",
              "0             Queens      American         Brunos On The Boulevard\n",
              "1             Queens  non American  New Park Pizzeria & Restaurant\n",
              "2           Brooklyn      American                 Regina Caterers\n",
              "3      Staten Island  non American                   Bagels N Buns\n",
              "4          Manhattan      American                   Old Homestead\n",
              "...              ...           ...                             ...\n",
              "25354         Queens  non American             Camden Food Express\n",
              "25355      Manhattan  non American                    Wooly'S Nyc \n",
              "25356      Manhattan  non American                        Rafi 786\n",
              "25357       Brooklyn  non American                             NaN\n",
              "25358      Manhattan  non American             Buttercup Bake Shop\n",
              "\n",
              "[25359 rows x 3 columns]"
            ]
          },
          "metadata": {},
          "execution_count": 12
        }
      ]
    },
    {
      "cell_type": "code",
      "metadata": {
        "colab": {
          "base_uri": "https://localhost:8080/",
          "height": 394
        },
        "id": "X9m6JU3RrFAj",
        "outputId": "968b318d-e867-4e02-b8f7-0805a641228b"
      },
      "source": [
        "data = df.groupby(['borough','cuisine']).count()\n",
        "data"
      ],
      "execution_count": 13,
      "outputs": [
        {
          "output_type": "execute_result",
          "data": {
            "text/html": [
              "<div>\n",
              "<style scoped>\n",
              "    .dataframe tbody tr th:only-of-type {\n",
              "        vertical-align: middle;\n",
              "    }\n",
              "\n",
              "    .dataframe tbody tr th {\n",
              "        vertical-align: top;\n",
              "    }\n",
              "\n",
              "    .dataframe thead th {\n",
              "        text-align: right;\n",
              "    }\n",
              "</style>\n",
              "<table border=\"1\" class=\"dataframe\">\n",
              "  <thead>\n",
              "    <tr style=\"text-align: right;\">\n",
              "      <th></th>\n",
              "      <th></th>\n",
              "      <th>name</th>\n",
              "    </tr>\n",
              "    <tr>\n",
              "      <th>borough</th>\n",
              "      <th>cuisine</th>\n",
              "      <th></th>\n",
              "    </tr>\n",
              "  </thead>\n",
              "  <tbody>\n",
              "    <tr>\n",
              "      <th rowspan=\"2\" valign=\"top\">Bronx</th>\n",
              "      <th>American</th>\n",
              "      <td>411</td>\n",
              "    </tr>\n",
              "    <tr>\n",
              "      <th>non American</th>\n",
              "      <td>1911</td>\n",
              "    </tr>\n",
              "    <tr>\n",
              "      <th rowspan=\"2\" valign=\"top\">Brooklyn</th>\n",
              "      <th>American</th>\n",
              "      <td>1273</td>\n",
              "    </tr>\n",
              "    <tr>\n",
              "      <th>non American</th>\n",
              "      <td>4773</td>\n",
              "    </tr>\n",
              "    <tr>\n",
              "      <th rowspan=\"2\" valign=\"top\">Manhattan</th>\n",
              "      <th>American</th>\n",
              "      <td>3205</td>\n",
              "    </tr>\n",
              "    <tr>\n",
              "      <th>non American</th>\n",
              "      <td>7006</td>\n",
              "    </tr>\n",
              "    <tr>\n",
              "      <th rowspan=\"2\" valign=\"top\">Queens</th>\n",
              "      <th>American</th>\n",
              "      <td>1040</td>\n",
              "    </tr>\n",
              "    <tr>\n",
              "      <th>non American</th>\n",
              "      <td>4575</td>\n",
              "    </tr>\n",
              "    <tr>\n",
              "      <th rowspan=\"2\" valign=\"top\">Staten Island</th>\n",
              "      <th>American</th>\n",
              "      <td>244</td>\n",
              "    </tr>\n",
              "    <tr>\n",
              "      <th>non American</th>\n",
              "      <td>719</td>\n",
              "    </tr>\n",
              "  </tbody>\n",
              "</table>\n",
              "</div>"
            ],
            "text/plain": [
              "                            name\n",
              "borough       cuisine           \n",
              "Bronx         American       411\n",
              "              non American  1911\n",
              "Brooklyn      American      1273\n",
              "              non American  4773\n",
              "Manhattan     American      3205\n",
              "              non American  7006\n",
              "Queens        American      1040\n",
              "              non American  4575\n",
              "Staten Island American       244\n",
              "              non American   719"
            ]
          },
          "metadata": {},
          "execution_count": 13
        }
      ]
    },
    {
      "cell_type": "code",
      "metadata": {
        "colab": {
          "base_uri": "https://localhost:8080/",
          "height": 237
        },
        "id": "sHgBCDlgs5v6",
        "outputId": "49795a3b-3590-4e0e-a215-4d443863fdf1"
      },
      "source": [
        "pivt = data.unstack()\n",
        "pivt['name']"
      ],
      "execution_count": 22,
      "outputs": [
        {
          "output_type": "execute_result",
          "data": {
            "text/html": [
              "<div>\n",
              "<style scoped>\n",
              "    .dataframe tbody tr th:only-of-type {\n",
              "        vertical-align: middle;\n",
              "    }\n",
              "\n",
              "    .dataframe tbody tr th {\n",
              "        vertical-align: top;\n",
              "    }\n",
              "\n",
              "    .dataframe thead th {\n",
              "        text-align: right;\n",
              "    }\n",
              "</style>\n",
              "<table border=\"1\" class=\"dataframe\">\n",
              "  <thead>\n",
              "    <tr style=\"text-align: right;\">\n",
              "      <th>cuisine</th>\n",
              "      <th>American</th>\n",
              "      <th>non American</th>\n",
              "    </tr>\n",
              "    <tr>\n",
              "      <th>borough</th>\n",
              "      <th></th>\n",
              "      <th></th>\n",
              "    </tr>\n",
              "  </thead>\n",
              "  <tbody>\n",
              "    <tr>\n",
              "      <th>Bronx</th>\n",
              "      <td>411</td>\n",
              "      <td>1911</td>\n",
              "    </tr>\n",
              "    <tr>\n",
              "      <th>Brooklyn</th>\n",
              "      <td>1273</td>\n",
              "      <td>4773</td>\n",
              "    </tr>\n",
              "    <tr>\n",
              "      <th>Manhattan</th>\n",
              "      <td>3205</td>\n",
              "      <td>7006</td>\n",
              "    </tr>\n",
              "    <tr>\n",
              "      <th>Queens</th>\n",
              "      <td>1040</td>\n",
              "      <td>4575</td>\n",
              "    </tr>\n",
              "    <tr>\n",
              "      <th>Staten Island</th>\n",
              "      <td>244</td>\n",
              "      <td>719</td>\n",
              "    </tr>\n",
              "  </tbody>\n",
              "</table>\n",
              "</div>"
            ],
            "text/plain": [
              "cuisine        American  non American\n",
              "borough                              \n",
              "Bronx               411          1911\n",
              "Brooklyn           1273          4773\n",
              "Manhattan          3205          7006\n",
              "Queens             1040          4575\n",
              "Staten Island       244           719"
            ]
          },
          "metadata": {},
          "execution_count": 22
        }
      ]
    },
    {
      "cell_type": "code",
      "metadata": {
        "colab": {
          "base_uri": "https://localhost:8080/",
          "height": 325
        },
        "id": "QpKldOHGzZPy",
        "outputId": "77c03df0-596f-4a07-887f-d9a8a4512f8b"
      },
      "source": [
        "df.pivot(index='borough',columns='cuisine')"
      ],
      "execution_count": 26,
      "outputs": [
        {
          "output_type": "error",
          "ename": "ValueError",
          "evalue": "ignored",
          "traceback": [
            "\u001b[0;31m---------------------------------------------------------------------------\u001b[0m",
            "\u001b[0;31mValueError\u001b[0m                                Traceback (most recent call last)",
            "\u001b[0;32m<ipython-input-26-cbb564d39a03>\u001b[0m in \u001b[0;36m<module>\u001b[0;34m()\u001b[0m\n\u001b[0;32m----> 1\u001b[0;31m \u001b[0mdf\u001b[0m\u001b[0;34m.\u001b[0m\u001b[0mpivot\u001b[0m\u001b[0;34m(\u001b[0m\u001b[0mindex\u001b[0m\u001b[0;34m=\u001b[0m\u001b[0;34m'borough'\u001b[0m\u001b[0;34m,\u001b[0m\u001b[0mcolumns\u001b[0m\u001b[0;34m=\u001b[0m\u001b[0;34m'cuisine'\u001b[0m\u001b[0;34m)\u001b[0m\u001b[0;34m\u001b[0m\u001b[0;34m\u001b[0m\u001b[0m\n\u001b[0m",
            "\u001b[0;32m/usr/local/lib/python3.7/dist-packages/pandas/core/frame.py\u001b[0m in \u001b[0;36mpivot\u001b[0;34m(self, index, columns, values)\u001b[0m\n\u001b[1;32m   6676\u001b[0m         \u001b[0;32mfrom\u001b[0m \u001b[0mpandas\u001b[0m\u001b[0;34m.\u001b[0m\u001b[0mcore\u001b[0m\u001b[0;34m.\u001b[0m\u001b[0mreshape\u001b[0m\u001b[0;34m.\u001b[0m\u001b[0mpivot\u001b[0m \u001b[0;32mimport\u001b[0m \u001b[0mpivot\u001b[0m\u001b[0;34m\u001b[0m\u001b[0;34m\u001b[0m\u001b[0m\n\u001b[1;32m   6677\u001b[0m \u001b[0;34m\u001b[0m\u001b[0m\n\u001b[0;32m-> 6678\u001b[0;31m         \u001b[0;32mreturn\u001b[0m \u001b[0mpivot\u001b[0m\u001b[0;34m(\u001b[0m\u001b[0mself\u001b[0m\u001b[0;34m,\u001b[0m \u001b[0mindex\u001b[0m\u001b[0;34m=\u001b[0m\u001b[0mindex\u001b[0m\u001b[0;34m,\u001b[0m \u001b[0mcolumns\u001b[0m\u001b[0;34m=\u001b[0m\u001b[0mcolumns\u001b[0m\u001b[0;34m,\u001b[0m \u001b[0mvalues\u001b[0m\u001b[0;34m=\u001b[0m\u001b[0mvalues\u001b[0m\u001b[0;34m)\u001b[0m\u001b[0;34m\u001b[0m\u001b[0;34m\u001b[0m\u001b[0m\n\u001b[0m\u001b[1;32m   6679\u001b[0m \u001b[0;34m\u001b[0m\u001b[0m\n\u001b[1;32m   6680\u001b[0m     _shared_docs[\n",
            "\u001b[0;32m/usr/local/lib/python3.7/dist-packages/pandas/core/reshape/pivot.py\u001b[0m in \u001b[0;36mpivot\u001b[0;34m(data, index, columns, values)\u001b[0m\n\u001b[1;32m    475\u001b[0m         \u001b[0;32melse\u001b[0m\u001b[0;34m:\u001b[0m\u001b[0;34m\u001b[0m\u001b[0;34m\u001b[0m\u001b[0m\n\u001b[1;32m    476\u001b[0m             \u001b[0mindexed\u001b[0m \u001b[0;34m=\u001b[0m \u001b[0mdata\u001b[0m\u001b[0;34m.\u001b[0m\u001b[0m_constructor_sliced\u001b[0m\u001b[0;34m(\u001b[0m\u001b[0mdata\u001b[0m\u001b[0;34m[\u001b[0m\u001b[0mvalues\u001b[0m\u001b[0;34m]\u001b[0m\u001b[0;34m.\u001b[0m\u001b[0m_values\u001b[0m\u001b[0;34m,\u001b[0m \u001b[0mindex\u001b[0m\u001b[0;34m=\u001b[0m\u001b[0mindex\u001b[0m\u001b[0;34m)\u001b[0m\u001b[0;34m\u001b[0m\u001b[0;34m\u001b[0m\u001b[0m\n\u001b[0;32m--> 477\u001b[0;31m     \u001b[0;32mreturn\u001b[0m \u001b[0mindexed\u001b[0m\u001b[0;34m.\u001b[0m\u001b[0munstack\u001b[0m\u001b[0;34m(\u001b[0m\u001b[0mcolumns\u001b[0m\u001b[0;34m)\u001b[0m\u001b[0;34m\u001b[0m\u001b[0;34m\u001b[0m\u001b[0m\n\u001b[0m\u001b[1;32m    478\u001b[0m \u001b[0;34m\u001b[0m\u001b[0m\n\u001b[1;32m    479\u001b[0m \u001b[0;34m\u001b[0m\u001b[0m\n",
            "\u001b[0;32m/usr/local/lib/python3.7/dist-packages/pandas/core/frame.py\u001b[0m in \u001b[0;36munstack\u001b[0;34m(self, level, fill_value)\u001b[0m\n\u001b[1;32m   7144\u001b[0m         \u001b[0;32mfrom\u001b[0m \u001b[0mpandas\u001b[0m\u001b[0;34m.\u001b[0m\u001b[0mcore\u001b[0m\u001b[0;34m.\u001b[0m\u001b[0mreshape\u001b[0m\u001b[0;34m.\u001b[0m\u001b[0mreshape\u001b[0m \u001b[0;32mimport\u001b[0m \u001b[0munstack\u001b[0m\u001b[0;34m\u001b[0m\u001b[0;34m\u001b[0m\u001b[0m\n\u001b[1;32m   7145\u001b[0m \u001b[0;34m\u001b[0m\u001b[0m\n\u001b[0;32m-> 7146\u001b[0;31m         \u001b[0;32mreturn\u001b[0m \u001b[0munstack\u001b[0m\u001b[0;34m(\u001b[0m\u001b[0mself\u001b[0m\u001b[0;34m,\u001b[0m \u001b[0mlevel\u001b[0m\u001b[0;34m,\u001b[0m \u001b[0mfill_value\u001b[0m\u001b[0;34m)\u001b[0m\u001b[0;34m\u001b[0m\u001b[0;34m\u001b[0m\u001b[0m\n\u001b[0m\u001b[1;32m   7147\u001b[0m \u001b[0;34m\u001b[0m\u001b[0m\n\u001b[1;32m   7148\u001b[0m     @Appender(\n",
            "\u001b[0;32m/usr/local/lib/python3.7/dist-packages/pandas/core/reshape/reshape.py\u001b[0m in \u001b[0;36munstack\u001b[0;34m(obj, level, fill_value)\u001b[0m\n\u001b[1;32m    416\u001b[0m     \u001b[0;32mif\u001b[0m \u001b[0misinstance\u001b[0m\u001b[0;34m(\u001b[0m\u001b[0mobj\u001b[0m\u001b[0;34m,\u001b[0m \u001b[0mDataFrame\u001b[0m\u001b[0;34m)\u001b[0m\u001b[0;34m:\u001b[0m\u001b[0;34m\u001b[0m\u001b[0;34m\u001b[0m\u001b[0m\n\u001b[1;32m    417\u001b[0m         \u001b[0;32mif\u001b[0m \u001b[0misinstance\u001b[0m\u001b[0;34m(\u001b[0m\u001b[0mobj\u001b[0m\u001b[0;34m.\u001b[0m\u001b[0mindex\u001b[0m\u001b[0;34m,\u001b[0m \u001b[0mMultiIndex\u001b[0m\u001b[0;34m)\u001b[0m\u001b[0;34m:\u001b[0m\u001b[0;34m\u001b[0m\u001b[0;34m\u001b[0m\u001b[0m\n\u001b[0;32m--> 418\u001b[0;31m             \u001b[0;32mreturn\u001b[0m \u001b[0m_unstack_frame\u001b[0m\u001b[0;34m(\u001b[0m\u001b[0mobj\u001b[0m\u001b[0;34m,\u001b[0m \u001b[0mlevel\u001b[0m\u001b[0;34m,\u001b[0m \u001b[0mfill_value\u001b[0m\u001b[0;34m=\u001b[0m\u001b[0mfill_value\u001b[0m\u001b[0;34m)\u001b[0m\u001b[0;34m\u001b[0m\u001b[0;34m\u001b[0m\u001b[0m\n\u001b[0m\u001b[1;32m    419\u001b[0m         \u001b[0;32melse\u001b[0m\u001b[0;34m:\u001b[0m\u001b[0;34m\u001b[0m\u001b[0;34m\u001b[0m\u001b[0m\n\u001b[1;32m    420\u001b[0m             \u001b[0;32mreturn\u001b[0m \u001b[0mobj\u001b[0m\u001b[0;34m.\u001b[0m\u001b[0mT\u001b[0m\u001b[0;34m.\u001b[0m\u001b[0mstack\u001b[0m\u001b[0;34m(\u001b[0m\u001b[0mdropna\u001b[0m\u001b[0;34m=\u001b[0m\u001b[0;32mFalse\u001b[0m\u001b[0;34m)\u001b[0m\u001b[0;34m\u001b[0m\u001b[0;34m\u001b[0m\u001b[0m\n",
            "\u001b[0;32m/usr/local/lib/python3.7/dist-packages/pandas/core/reshape/reshape.py\u001b[0m in \u001b[0;36m_unstack_frame\u001b[0;34m(obj, level, fill_value)\u001b[0m\n\u001b[1;32m    437\u001b[0m     \u001b[0;32melse\u001b[0m\u001b[0;34m:\u001b[0m\u001b[0;34m\u001b[0m\u001b[0;34m\u001b[0m\u001b[0m\n\u001b[1;32m    438\u001b[0m         return _Unstacker(\n\u001b[0;32m--> 439\u001b[0;31m             \u001b[0mobj\u001b[0m\u001b[0;34m.\u001b[0m\u001b[0mindex\u001b[0m\u001b[0;34m,\u001b[0m \u001b[0mlevel\u001b[0m\u001b[0;34m=\u001b[0m\u001b[0mlevel\u001b[0m\u001b[0;34m,\u001b[0m \u001b[0mconstructor\u001b[0m\u001b[0;34m=\u001b[0m\u001b[0mobj\u001b[0m\u001b[0;34m.\u001b[0m\u001b[0m_constructor\u001b[0m\u001b[0;34m,\u001b[0m\u001b[0;34m\u001b[0m\u001b[0;34m\u001b[0m\u001b[0m\n\u001b[0m\u001b[1;32m    440\u001b[0m         ).get_result(obj._values, value_columns=obj.columns, fill_value=fill_value)\n\u001b[1;32m    441\u001b[0m \u001b[0;34m\u001b[0m\u001b[0m\n",
            "\u001b[0;32m/usr/local/lib/python3.7/dist-packages/pandas/core/reshape/reshape.py\u001b[0m in \u001b[0;36m__init__\u001b[0;34m(self, index, level, constructor)\u001b[0m\n\u001b[1;32m    118\u001b[0m             \u001b[0;32mraise\u001b[0m \u001b[0mValueError\u001b[0m\u001b[0;34m(\u001b[0m\u001b[0;34m\"Unstacked DataFrame is too big, causing int32 overflow\"\u001b[0m\u001b[0;34m)\u001b[0m\u001b[0;34m\u001b[0m\u001b[0;34m\u001b[0m\u001b[0m\n\u001b[1;32m    119\u001b[0m \u001b[0;34m\u001b[0m\u001b[0m\n\u001b[0;32m--> 120\u001b[0;31m         \u001b[0mself\u001b[0m\u001b[0;34m.\u001b[0m\u001b[0m_make_selectors\u001b[0m\u001b[0;34m(\u001b[0m\u001b[0;34m)\u001b[0m\u001b[0;34m\u001b[0m\u001b[0;34m\u001b[0m\u001b[0m\n\u001b[0m\u001b[1;32m    121\u001b[0m \u001b[0;34m\u001b[0m\u001b[0m\n\u001b[1;32m    122\u001b[0m     \u001b[0;34m@\u001b[0m\u001b[0mcache_readonly\u001b[0m\u001b[0;34m\u001b[0m\u001b[0;34m\u001b[0m\u001b[0m\n",
            "\u001b[0;32m/usr/local/lib/python3.7/dist-packages/pandas/core/reshape/reshape.py\u001b[0m in \u001b[0;36m_make_selectors\u001b[0;34m(self)\u001b[0m\n\u001b[1;32m    167\u001b[0m \u001b[0;34m\u001b[0m\u001b[0m\n\u001b[1;32m    168\u001b[0m         \u001b[0;32mif\u001b[0m \u001b[0mmask\u001b[0m\u001b[0;34m.\u001b[0m\u001b[0msum\u001b[0m\u001b[0;34m(\u001b[0m\u001b[0;34m)\u001b[0m \u001b[0;34m<\u001b[0m \u001b[0mlen\u001b[0m\u001b[0;34m(\u001b[0m\u001b[0mself\u001b[0m\u001b[0;34m.\u001b[0m\u001b[0mindex\u001b[0m\u001b[0;34m)\u001b[0m\u001b[0;34m:\u001b[0m\u001b[0;34m\u001b[0m\u001b[0;34m\u001b[0m\u001b[0m\n\u001b[0;32m--> 169\u001b[0;31m             \u001b[0;32mraise\u001b[0m \u001b[0mValueError\u001b[0m\u001b[0;34m(\u001b[0m\u001b[0;34m\"Index contains duplicate entries, cannot reshape\"\u001b[0m\u001b[0;34m)\u001b[0m\u001b[0;34m\u001b[0m\u001b[0;34m\u001b[0m\u001b[0m\n\u001b[0m\u001b[1;32m    170\u001b[0m \u001b[0;34m\u001b[0m\u001b[0m\n\u001b[1;32m    171\u001b[0m         \u001b[0mself\u001b[0m\u001b[0;34m.\u001b[0m\u001b[0mgroup_index\u001b[0m \u001b[0;34m=\u001b[0m \u001b[0mcomp_index\u001b[0m\u001b[0;34m\u001b[0m\u001b[0;34m\u001b[0m\u001b[0m\n",
            "\u001b[0;31mValueError\u001b[0m: Index contains duplicate entries, cannot reshape"
          ]
        }
      ]
    },
    {
      "cell_type": "code",
      "metadata": {
        "colab": {
          "base_uri": "https://localhost:8080/",
          "height": 206
        },
        "id": "ZsfOSwxd2abl",
        "outputId": "f392584b-7aa5-4986-f47f-e9c9cea681dc"
      },
      "source": [
        "dati = pivt['name'].reset_index()\n",
        "dati"
      ],
      "execution_count": 43,
      "outputs": [
        {
          "output_type": "execute_result",
          "data": {
            "text/html": [
              "<div>\n",
              "<style scoped>\n",
              "    .dataframe tbody tr th:only-of-type {\n",
              "        vertical-align: middle;\n",
              "    }\n",
              "\n",
              "    .dataframe tbody tr th {\n",
              "        vertical-align: top;\n",
              "    }\n",
              "\n",
              "    .dataframe thead th {\n",
              "        text-align: right;\n",
              "    }\n",
              "</style>\n",
              "<table border=\"1\" class=\"dataframe\">\n",
              "  <thead>\n",
              "    <tr style=\"text-align: right;\">\n",
              "      <th>cuisine</th>\n",
              "      <th>borough</th>\n",
              "      <th>American</th>\n",
              "      <th>non American</th>\n",
              "    </tr>\n",
              "  </thead>\n",
              "  <tbody>\n",
              "    <tr>\n",
              "      <th>0</th>\n",
              "      <td>Bronx</td>\n",
              "      <td>411</td>\n",
              "      <td>1911</td>\n",
              "    </tr>\n",
              "    <tr>\n",
              "      <th>1</th>\n",
              "      <td>Brooklyn</td>\n",
              "      <td>1273</td>\n",
              "      <td>4773</td>\n",
              "    </tr>\n",
              "    <tr>\n",
              "      <th>2</th>\n",
              "      <td>Manhattan</td>\n",
              "      <td>3205</td>\n",
              "      <td>7006</td>\n",
              "    </tr>\n",
              "    <tr>\n",
              "      <th>3</th>\n",
              "      <td>Queens</td>\n",
              "      <td>1040</td>\n",
              "      <td>4575</td>\n",
              "    </tr>\n",
              "    <tr>\n",
              "      <th>4</th>\n",
              "      <td>Staten Island</td>\n",
              "      <td>244</td>\n",
              "      <td>719</td>\n",
              "    </tr>\n",
              "  </tbody>\n",
              "</table>\n",
              "</div>"
            ],
            "text/plain": [
              "cuisine        borough  American  non American\n",
              "0                Bronx       411          1911\n",
              "1             Brooklyn      1273          4773\n",
              "2            Manhattan      3205          7006\n",
              "3               Queens      1040          4575\n",
              "4        Staten Island       244           719"
            ]
          },
          "metadata": {},
          "execution_count": 43
        }
      ]
    },
    {
      "cell_type": "code",
      "metadata": {
        "colab": {
          "base_uri": "https://localhost:8080/",
          "height": 286
        },
        "id": "uMaplEGlSUTR",
        "outputId": "c93d74fb-87fb-49e9-f01a-840d9c7ba4ff"
      },
      "source": [
        "fig = plt.figure()\n",
        "ax = plt.axes()\n",
        "\n",
        "ax.bar(dati.index,dati['American'],width=0.5,color='royalblue')\n",
        "ax.bar(dati.index+0.5,dati['non American'],width=0.5,color='hotpink')"
      ],
      "execution_count": 44,
      "outputs": [
        {
          "output_type": "execute_result",
          "data": {
            "text/plain": [
              "<BarContainer object of 5 artists>"
            ]
          },
          "metadata": {},
          "execution_count": 44
        },
        {
          "output_type": "display_data",
          "data": {
            "image/png": "[encoded data removed]",
            "text/plain": [
              "<Figure size 432x288 with 1 Axes>"
            ]
          },
          "metadata": {
            "needs_background": "light"
          }
        }
      ]
    },
    {
      "cell_type": "code",
      "metadata": {
        "id": "QjxnWW98asGx"
      },
      "source": [
        ""
      ],
      "execution_count": null,
      "outputs": []
    }
  ]
}