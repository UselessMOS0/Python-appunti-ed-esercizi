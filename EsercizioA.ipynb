{
  "nbformat": 4,
  "nbformat_minor": 0,
  "metadata": {
    "colab": {
      "name": "EsercizioA.ipynb",
      "provenance": [],
      "collapsed_sections": []
    },
    "kernelspec": {
      "name": "python3",
      "display_name": "Python 3"
    },
    "language_info": {
      "name": "python"
    }
  },
  "cells": [
    {
      "cell_type": "markdown",
      "metadata": {
        "id": "f4nPikB1a-ZF"
      },
      "source": [
        "1."
      ]
    },
    {
      "cell_type": "code",
      "metadata": {
        "colab": {
          "base_uri": "https://localhost:8080/"
        },
        "id": "Oea3voJza8uR",
        "outputId": "f52fb862-86c4-40ce-d992-26836babaaca"
      },
      "source": [
        "data = 'gg/mm/aaaa'\n",
        "print(data.split('/')[0])"
      ],
      "execution_count": null,
      "outputs": [
        {
          "output_type": "stream",
          "name": "stdout",
          "text": [
            "giorno =gg\n"
          ]
        }
      ]
    },
    {
      "cell_type": "markdown",
      "metadata": {
        "id": "WTTmzHdjbhtL"
      },
      "source": [
        "2."
      ]
    },
    {
      "cell_type": "code",
      "metadata": {
        "colab": {
          "base_uri": "https://localhost:8080/"
        },
        "id": "7OxMpRjmbiZ4",
        "outputId": "e33ebf0a-9fc9-4287-cf16-7348c9cc09b4"
      },
      "source": [
        "x = int(input())\n",
        "if x % 2 == 1:\n",
        "  print('dispari')\n",
        "  if x % 5 == 0:\n",
        "    print('divisibile per 5')\n",
        "  else:\n",
        "    print('non divisibile per 5')\n",
        "else:\n",
        "  print('pari')"
      ],
      "execution_count": null,
      "outputs": [
        {
          "output_type": "stream",
          "name": "stdout",
          "text": [
            "2\n",
            "pari\n"
          ]
        }
      ]
    },
    {
      "cell_type": "markdown",
      "metadata": {
        "id": "iyPYh6n2ceyF"
      },
      "source": [
        "3."
      ]
    },
    {
      "cell_type": "code",
      "metadata": {
        "id": "o4Sf55qncfnq"
      },
      "source": [
        "if stringa[0] == stringa[-1]:\n",
        "  print('estremi uguali')\n",
        "else:\n",
        "  print('estremi diversi')"
      ],
      "execution_count": null,
      "outputs": []
    },
    {
      "cell_type": "markdown",
      "metadata": {
        "id": "qixVEcNmcwBh"
      },
      "source": [
        "4."
      ]
    },
    {
      "cell_type": "code",
      "metadata": {
        "colab": {
          "base_uri": "https://localhost:8080/"
        },
        "id": "XMVXBA-ocw85",
        "outputId": "abaf3bf3-09e1-4f1c-a43b-df53a7ff7187"
      },
      "source": [
        "lettera = input()\n",
        "lista = [word for word in input().split()]\n",
        "lista = list(filter(lambda x:x[0] != lettera,lista))\n",
        "print(lista)"
      ],
      "execution_count": null,
      "outputs": [
        {
          "output_type": "stream",
          "name": "stdout",
          "text": [
            "a\n",
            "andrea gino pino ambe dio ds\n",
            "['gino', 'pino', 'dio', 'ds']\n"
          ]
        }
      ]
    },
    {
      "cell_type": "markdown",
      "metadata": {
        "id": "-Iml380GfFHL"
      },
      "source": [
        "5."
      ]
    },
    {
      "cell_type": "code",
      "metadata": {
        "colab": {
          "base_uri": "https://localhost:8080/"
        },
        "id": "5JMlJIHlfF5t",
        "outputId": "5b5372f9-4c1f-407d-e0b0-a09806292107"
      },
      "source": [
        "def toglivocali(x):\n",
        "  vocali = ['a','e','i','o','u']\n",
        "  stringa = \"\"\n",
        "  for i in [let for let in x if let not in vocali]:\n",
        "    stringa += i\n",
        "  return stringa\n",
        "print(toglivocali('ciaobello'))\n"
      ],
      "execution_count": null,
      "outputs": [
        {
          "output_type": "stream",
          "name": "stdout",
          "text": [
            "cbll\n"
          ]
        }
      ]
    },
    {
      "cell_type": "markdown",
      "metadata": {
        "id": "9rXS68MUjtMh"
      },
      "source": [
        "6."
      ]
    },
    {
      "cell_type": "code",
      "metadata": {
        "colab": {
          "base_uri": "https://localhost:8080/"
        },
        "id": "7lx2r75NjuGR",
        "outputId": "3590ad28-08ab-47a6-ea36-ccf883ed5652"
      },
      "source": [
        "frase = \"ciao come stai io bene\"\n",
        "print(toglivocali(frase))\n"
      ],
      "execution_count": null,
      "outputs": [
        {
          "output_type": "stream",
          "name": "stdout",
          "text": [
            "c cm st  bn\n"
          ]
        }
      ]
    },
    {
      "cell_type": "markdown",
      "metadata": {
        "id": "156llwUHkcDC"
      },
      "source": [
        "7."
      ]
    },
    {
      "cell_type": "code",
      "metadata": {
        "colab": {
          "base_uri": "https://localhost:8080/"
        },
        "id": "NsmmA8k9kdZo",
        "outputId": "751f20e3-54bd-44b6-c5c8-856e60ed1fb3"
      },
      "source": [
        "lista = ['stella','ciao','alefi']\n",
        "listacount = list(map(lambda x:len(x),lista))\n",
        "print(listacount)"
      ],
      "execution_count": null,
      "outputs": [
        {
          "output_type": "stream",
          "name": "stdout",
          "text": [
            "[6, 4, 5]\n"
          ]
        }
      ]
    },
    {
      "cell_type": "markdown",
      "metadata": {
        "id": "LLSQSyPTlC6x"
      },
      "source": [
        "8."
      ]
    },
    {
      "cell_type": "code",
      "metadata": {
        "colab": {
          "base_uri": "https://localhost:8080/"
        },
        "id": "vtg-naAjlD3q",
        "outputId": "fd35df1e-8f46-4f95-81fd-aec1dab88193"
      },
      "source": [
        "lista = ['stella','ciao','alefi']\n",
        "a = int(input())\n",
        "lista = list(filter(lambda x: len(x) > a,lista))\n",
        "print(listab)"
      ],
      "execution_count": null,
      "outputs": [
        {
          "output_type": "stream",
          "name": "stdout",
          "text": [
            "5\n",
            "['stella']\n"
          ]
        }
      ]
    },
    {
      "cell_type": "markdown",
      "metadata": {
        "id": "X0mfrlCwlqPB"
      },
      "source": [
        "9."
      ]
    },
    {
      "cell_type": "code",
      "metadata": {
        "colab": {
          "base_uri": "https://localhost:8080/"
        },
        "id": "-QT4qk6Zlq2Y",
        "outputId": "281086df-55fa-4ba1-c238-c497f150254d"
      },
      "source": [
        "MilanoSport = [\n",
        "  {\n",
        "    'corso':'nuotolibero',\n",
        "    'iscritti': ['gino','paolo']\n",
        "  },\n",
        "  {\n",
        "    'corso':'pallanuoto',\n",
        "    'iscritti': ['pino','genoveffa']\n",
        "  }\n",
        "]\n",
        "corso = input()\n",
        "for dictionary in MilanoSport:\n",
        "  if dictionary['corso'] == corso:\n",
        "    print(dictionary['iscritti'])\n"
      ],
      "execution_count": null,
      "outputs": [
        {
          "output_type": "stream",
          "name": "stdout",
          "text": [
            "nuotolibero\n",
            "['gino', 'paolo']\n"
          ]
        }
      ]
    }
  ]
}