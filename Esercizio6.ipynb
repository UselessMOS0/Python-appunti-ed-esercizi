{
  "nbformat": 4,
  "nbformat_minor": 0,
  "metadata": {
    "colab": {
      "name": "Esercizio6.ipynb",
      "provenance": [],
      "collapsed_sections": []
    },
    "kernelspec": {
      "name": "python3",
      "display_name": "Python 3"
    },
    "language_info": {
      "name": "python"
    }
  },
  "cells": [
    {
      "cell_type": "markdown",
      "metadata": {
        "id": "gV2SO-6G-z-t"
      },
      "source": [
        "1. scrivere una funzione chiamata sommaTutti che permetta di sommare un numero arbitrario di valori interi passati come parametri. Scrivere poi un programma che permetta all'utente di inserire un numero variabile di interi e visualizzi la somma."
      ]
    },
    {
      "cell_type": "code",
      "metadata": {
        "colab": {
          "base_uri": "https://localhost:8080/"
        },
        "id": "3k8qwoO4-fKA",
        "outputId": "10f61f91-cbea-4334-de21-ee7d1ad0dcb7"
      },
      "source": [
        "def sommaTutti(x):\n",
        "  return sum(x)\n",
        "lst=[int(i) for i in input().split()]\n",
        "print(sommaTutti(lst))\n"
      ],
      "execution_count": null,
      "outputs": [
        {
          "output_type": "stream",
          "name": "stdout",
          "text": [
            "1 2 3 4 5 6\n",
            "21\n"
          ]
        }
      ]
    },
    {
      "cell_type": "markdown",
      "metadata": {
        "id": "XmkttMalBF3U"
      },
      "source": [
        "2. scrivere una lambda function che calcoli la lunghezza della circonferenza di un cerchio dato il raggio. Utilizzarla poi in un programma che chieda all'utente il valore del raggio e visualizzi la lunghezza della circonferenza\n"
      ]
    },
    {
      "cell_type": "code",
      "metadata": {
        "colab": {
          "base_uri": "https://localhost:8080/"
        },
        "id": "8lnDMYarBIcD",
        "outputId": "64e0b73b-b1e0-4238-9bc7-96278be2191a"
      },
      "source": [
        "import math\n",
        "mathcirc = lambda x: math.pi*(x*2)\n",
        "print(mathcirc(int(input(\"raggio: \"))))\n"
      ],
      "execution_count": null,
      "outputs": [
        {
          "output_type": "stream",
          "name": "stdout",
          "text": [
            "raggio: 4\n",
            "25.132741228718345\n"
          ]
        }
      ]
    },
    {
      "cell_type": "markdown",
      "metadata": {
        "id": "R8wheEEwCTBM"
      },
      "source": [
        "3. scrivere una funzione che calcoli il quadrato di un numero. Scrivere poi una funzione che calcoli la radice quadrata della somma di due numeri. Scrivere poi una lambda function che date le lunghezze di due cateti di un triangolo calcoli l'ipotenusa utilizzando le funzioni definite precedentemente. Utilizzare quest'ultima funzione in un programma che permetta all'utente di inserire le lunghezze dei cateti e di avere in risposta la lunghezza dell'ipotenusa di un triangolo rettangolo"
      ]
    },
    {
      "cell_type": "code",
      "metadata": {
        "colab": {
          "base_uri": "https://localhost:8080/"
        },
        "id": "xqmVvR1ICTW7",
        "outputId": "c90b2dcd-0c48-42d0-f0f0-b8fba7e0629c"
      },
      "source": [
        "def quadrato(x):\n",
        "  return x**2\n",
        "def radice(x,y):\n",
        "  return pow(x+y,0.5)\n",
        "ipotenusa = lambda x,y: radice(quadrato(x),quadrato(y))\n",
        "\n",
        "print(ipotenusa(float(input(\"len1: \")),float(input(\"len2: \"))))"
      ],
      "execution_count": null,
      "outputs": [
        {
          "output_type": "stream",
          "name": "stdout",
          "text": [
            "len1: 2\n",
            "len2: 6\n",
            "6.324555320336759\n"
          ]
        }
      ]
    },
    {
      "cell_type": "markdown",
      "metadata": {
        "id": "oxfRKB5dEcNL"
      },
      "source": [
        "4. Scrivere le funzioni quadrato, cubo e radiceQuadrata che calcolano il quadrato, il cubo e la radice quadrata di un numero intero. Scrivere poi un programma che, utilizzando un ciclo for, richiami le tre funzioni su un valore intero inserito dall'utente e visualizzi i tre risultati."
      ]
    },
    {
      "cell_type": "code",
      "metadata": {
        "id": "7jogchTqEfBr"
      },
      "source": [
        "def quadrato(x):\n",
        "  return pow(x,2)\n",
        "def cubo(x):\n",
        "  return pow(x,3)\n",
        "def radiceQuadrata(x):\n",
        "  return pow(x,0.5)\n",
        "\n",
        "x = float(input())\n",
        "for i in range(3):\n",
        "  if i == 0:\n",
        "    print(quadrato(x))\n",
        "  elif i == 1:\n",
        "    print(cubo(x))\n",
        "  elif i == 2:\n",
        "    print(radiceQuadrata(x))\n",
        "\n",
        "  \n"
      ],
      "execution_count": null,
      "outputs": []
    },
    {
      "cell_type": "markdown",
      "metadata": {
        "id": "sXZwtJ8xEc48"
      },
      "source": [
        "5. Utilizzando una lambda function, scrivere un programma che data una lista di numeri interi inserita dall'utente carichi in altre due liste i quadrati e i cubi dei numeri presenti nella lista inserita. Al termine, visualizzare le due liste."
      ]
    },
    {
      "cell_type": "code",
      "metadata": {
        "colab": {
          "base_uri": "https://localhost:8080/"
        },
        "id": "qqOlYQFmEhCw",
        "outputId": "58d999df-3c79-43eb-fb76-dfa8f3238909"
      },
      "source": [
        "lst=[int(i) for i in input().split()]\n",
        "lstquad = list(map(lambda x: quadrato(x),lst))\n",
        "lstcubo = list(map(lambda x: cubo(x),lst))\n",
        "print(lstquad,lstcubo)"
      ],
      "execution_count": 27,
      "outputs": [
        {
          "output_type": "stream",
          "name": "stdout",
          "text": [
            "1 3 65 7 \n",
            "[1, 9, 4225, 49] [1, 27, 274625, 343]\n"
          ]
        }
      ]
    },
    {
      "cell_type": "markdown",
      "metadata": {
        "id": "HBRdebp7FTgL"
      },
      "source": [
        "6. Utilizzando una lambda function, scrivere un programma che data una lista di numeri interi inserita dall'utente carichi in altre due liste i numeri pari e i numeri dispari presenti nella lista inserita. Al termine, visualizzare le due liste.\n",
        "\n"
      ]
    },
    {
      "cell_type": "code",
      "metadata": {
        "colab": {
          "base_uri": "https://localhost:8080/"
        },
        "id": "gtzEbNEEMriu",
        "outputId": "27eb6edc-49d7-4d8b-da6d-4aaa4ecfed9d"
      },
      "source": [
        "lst=[int(i) for i in input().split()]\n",
        "lstodd = list(filter(lambda x: x%2 == 0,lst))\n",
        "lsteven = list(filter(lambda x: x%2 == 1,lst))\n",
        "print(lstodd,lsteven)"
      ],
      "execution_count": 28,
      "outputs": [
        {
          "output_type": "stream",
          "name": "stdout",
          "text": [
            "1 2 3 4 5 6 7 8 9 10 230 49\n",
            "[2, 4, 6, 8, 10, 230] [1, 3, 5, 7, 9, 49]\n"
          ]
        }
      ]
    },
    {
      "cell_type": "markdown",
      "metadata": {
        "id": "SjpAnmCRLrZT"
      },
      "source": [
        "7. Cercare su internet che cosa si intende per fattoriale di un numero. \n",
        "\n",
        "Scrivere poi una funzione ricorsiva che calcoli il fattoriale di un numero. Utilizzare poi la funzione creata per scrivere un programma che permetta all'utente di inserire un numero intero e che visualizzi il fattoriale di quel numero."
      ]
    },
    {
      "cell_type": "code",
      "metadata": {
        "colab": {
          "base_uri": "https://localhost:8080/"
        },
        "id": "KPGzmUfwMvEe",
        "outputId": "fc0157a5-9665-4518-fba3-a06da6ad846a"
      },
      "source": [
        "def fattoriale1(x):\n",
        "  if x == 0:\n",
        "    return 1\n",
        "  elif x == 1:\n",
        "    return x\n",
        "  else:\n",
        "    return x * fattoriale1(x-1)\n",
        "print(fattoriale1(0))"
      ],
      "execution_count": 44,
      "outputs": [
        {
          "output_type": "stream",
          "name": "stdout",
          "text": [
            "1\n"
          ]
        }
      ]
    },
    {
      "cell_type": "markdown",
      "metadata": {
        "id": "ub3s_jdxLpmp"
      },
      "source": [
        "8. Svolgere l'esercizio 7, senza ricorsione"
      ]
    },
    {
      "cell_type": "code",
      "metadata": {
        "colab": {
          "base_uri": "https://localhost:8080/"
        },
        "id": "cx-QiTfiFTFn",
        "outputId": "994fca40-001c-4144-fb61-cb79446f7cca"
      },
      "source": [
        "def fattoriale(x):\n",
        "  a=1\n",
        "  for i in range(2,x+1):\n",
        "    a *= i\n",
        "    print(a,i)\n",
        "  return a\n",
        "\n",
        "print(fattoriale(5))"
      ],
      "execution_count": 22,
      "outputs": [
        {
          "output_type": "stream",
          "name": "stdout",
          "text": [
            "2 2\n",
            "6 3\n",
            "24 4\n",
            "120 5\n",
            "120\n"
          ]
        }
      ]
    },
    {
      "cell_type": "markdown",
      "metadata": {
        "id": "peBZ4bX7M4ZX"
      },
      "source": [
        "9. Cercare su internet che cosa sono i numeri di Fibonacci. Scrivere poi una funzione ricorsiva che calcoli l'n-esimo numero della sequenza di Fibonacci. Utilizzare poi la funzione creata per scrivere un programma che permetta all'utente di inserire un numero intero e che visualizzi il numero della sequenza di Fibonacci corrispondente."
      ]
    },
    {
      "cell_type": "code",
      "metadata": {
        "colab": {
          "base_uri": "https://localhost:8080/"
        },
        "id": "jgsH8Fq7M6wt",
        "outputId": "9e479354-6f4e-44e7-d210-28003c4b2127"
      },
      "source": [
        "def fibonacci(n):\n",
        "  if n == 0 or n == 1:\n",
        "    return n\n",
        "  return fibonacci(n - 1) + fibonacci(n - 2)\n",
        "\n",
        "fibonaccilst = [fibonacci(i) for i in range(int(input()))]\n",
        "print(fibonaccilst)"
      ],
      "execution_count": 52,
      "outputs": [
        {
          "output_type": "stream",
          "name": "stdout",
          "text": [
            "20\n",
            "[0, 1, 1, 2, 3, 5, 8, 13, 21, 34, 55, 89, 144, 233, 377, 610, 987, 1597, 2584, 4181]\n"
          ]
        }
      ]
    }
  ]
}