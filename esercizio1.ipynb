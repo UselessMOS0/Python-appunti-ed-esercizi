{
  "nbformat": 4,
  "nbformat_minor": 0,
  "metadata": {
    "colab": {
      "name": "esercizio1.ipynb",
      "provenance": [],
      "collapsed_sections": []
    },
    "kernelspec": {
      "name": "python3",
      "display_name": "Python 3"
    },
    "language_info": {
      "name": "python"
    }
  },
  "cells": [
    {
      "cell_type": "markdown",
      "metadata": {
        "id": "xSMQUD8Zgh0K"
      },
      "source": [
        "a. far inserire all'utente due valori interi"
      ]
    },
    {
      "cell_type": "code",
      "metadata": {
        "colab": {
          "base_uri": "https://localhost:8080/"
        },
        "id": "mn7O8dVagOHY",
        "outputId": "72a98cc4-0845-4c2c-baec-f48dc361d8be"
      },
      "source": [
        "x = int(input(\"inserisci un valore intero: \"))\n",
        "y = int(input(\"inserisci un valore intero: \"))"
      ],
      "execution_count": null,
      "outputs": [
        {
          "name": "stdout",
          "output_type": "stream",
          "text": [
            "inserisci un valore intero: 1\n",
            "inserisci un valore intero: 2\n"
          ]
        }
      ]
    },
    {
      "cell_type": "markdown",
      "metadata": {
        "id": "WYkwNrQ5h07S"
      },
      "source": [
        "b. effettuare le 4 operazioni aritmetiche tra i due numeri"
      ]
    },
    {
      "cell_type": "code",
      "metadata": {
        "colab": {
          "base_uri": "https://localhost:8080/"
        },
        "id": "5JJ_wzVAiTNZ",
        "outputId": "068b7729-6350-487a-bbda-8b989a49a963"
      },
      "source": [
        "sum = x+y\n",
        "dif = x-y\n",
        "div = x/y\n",
        "mol = x*y\n",
        "print(\"La somma è: \", sum, \" \\n La differenza è: \" , dif , \" \\n La divisione è: \", div, \" \\n La moltiplicazione è: \",mol)"
      ],
      "execution_count": null,
      "outputs": [
        {
          "output_type": "stream",
          "name": "stdout",
          "text": [
            "La somma è:  3  \n",
            " La differenza è:  -1  \n",
            " La divisione è:  0.5  \n",
            " La moltiplicazione è:  2\n"
          ]
        }
      ]
    },
    {
      "cell_type": "markdown",
      "metadata": {
        "id": "EqhEzx2ci145"
      },
      "source": [
        "c. effettuare l'elevamento a potenza del primo numero per il secondo"
      ]
    },
    {
      "cell_type": "code",
      "metadata": {
        "colab": {
          "base_uri": "https://localhost:8080/"
        },
        "id": "ZdxLJCWwi5rx",
        "outputId": "33a2a5d6-5995-42ff-e133-b6e675dc7228"
      },
      "source": [
        "pot= x**y\n",
        "print(\"La potenza è: \",pot)"
      ],
      "execution_count": null,
      "outputs": [
        {
          "output_type": "stream",
          "name": "stdout",
          "text": [
            "La potenza è:  1\n"
          ]
        }
      ]
    },
    {
      "cell_type": "markdown",
      "metadata": {
        "id": "rTOzqUmpjKqB"
      },
      "source": [
        "d. effettuare il calcolo del resto della divisione tra il primo e il secondo numero"
      ]
    },
    {
      "cell_type": "code",
      "metadata": {
        "colab": {
          "base_uri": "https://localhost:8080/"
        },
        "id": "euAlV5F1jOZB",
        "outputId": "60055172-3567-4a2f-f9a7-604e2465a5cc"
      },
      "source": [
        "mod=x%y\n",
        "print(\"Il modulo è: \",mod)"
      ],
      "execution_count": null,
      "outputs": [
        {
          "output_type": "stream",
          "name": "stdout",
          "text": [
            "1\n"
          ]
        }
      ]
    },
    {
      "cell_type": "markdown",
      "metadata": {
        "id": "RdfTvuCRjXtZ"
      },
      "source": [
        "f. effettuare la divisione intera tra il primo e il secondo numero\n"
      ]
    },
    {
      "cell_type": "code",
      "metadata": {
        "colab": {
          "base_uri": "https://localhost:8080/"
        },
        "id": "WxpBGJ--jYP5",
        "outputId": "1d84a2af-1ef3-4a88-fa33-dbc4d2de2458"
      },
      "source": [
        "dm= divmod(x,y)\n",
        "print(dm)"
      ],
      "execution_count": null,
      "outputs": [
        {
          "output_type": "stream",
          "name": "stdout",
          "text": [
            "(0, 1)\n"
          ]
        }
      ]
    },
    {
      "cell_type": "markdown",
      "metadata": {
        "id": "8quXROJKkf_D"
      },
      "source": [
        "g. incrementare di una unità entrambi i numeri\n"
      ]
    },
    {
      "cell_type": "code",
      "metadata": {
        "colab": {
          "base_uri": "https://localhost:8080/"
        },
        "id": "qy-s3W6UkglB",
        "outputId": "a6b24f38-a739-4961-c04a-37a39e8673b9"
      },
      "source": [
        "x+=1\n",
        "y+=1\n",
        "print(x,y)"
      ],
      "execution_count": null,
      "outputs": [
        {
          "output_type": "stream",
          "name": "stdout",
          "text": [
            "2 3\n"
          ]
        }
      ]
    },
    {
      "cell_type": "markdown",
      "metadata": {
        "id": "K6ACTAJbkkMh"
      },
      "source": [
        "h. far inserie all'utente due valori: il primo rappresenta la sua altezza (in metri) e il secondo rappresenta il suo peso (in kg). Visualizzare poi l'IMC (google it...)\n"
      ]
    },
    {
      "cell_type": "code",
      "metadata": {
        "colab": {
          "base_uri": "https://localhost:8080/"
        },
        "id": "LSIHFMeZkl3J",
        "outputId": "5fd842fa-8411-4253-dbc1-0ea468d2fdbe"
      },
      "source": [
        "h = float(input(\"inserisci la tua algtezza in m: \"))\n",
        "m = float(input(\"inserisci il tuo peso in kg: \"))\n",
        "IMC = m/(h*h)\n",
        "print(\"il tuo IMC è: \",IMC)"
      ],
      "execution_count": null,
      "outputs": [
        {
          "output_type": "stream",
          "name": "stdout",
          "text": [
            "inserisci la tua algtezza in m: 1.70\n",
            "inserisci il tuo peso in kg: 60\n",
            "il tuo IMC è:  20.761245674740486\n"
          ]
        }
      ]
    },
    {
      "cell_type": "markdown",
      "metadata": {
        "id": "ZpyFbgdHlzBq"
      },
      "source": [
        "i. arrotondare l'IMC precedente\n"
      ]
    },
    {
      "cell_type": "code",
      "metadata": {
        "colab": {
          "base_uri": "https://localhost:8080/"
        },
        "id": "3woifVrnlzh5",
        "outputId": "4169dfef-0066-4ef2-f00b-3ea6cb4097ef"
      },
      "source": [
        "print(round(IMC))"
      ],
      "execution_count": null,
      "outputs": [
        {
          "output_type": "stream",
          "name": "stdout",
          "text": [
            "21\n"
          ]
        }
      ]
    },
    {
      "cell_type": "markdown",
      "metadata": {
        "id": "CakHhzwWr-x_"
      },
      "source": [
        "j. visualizzare il proprio nome, cognome, data di nascita e città di nascita separando le informazioni con un trattino.\n"
      ]
    },
    {
      "cell_type": "code",
      "metadata": {
        "colab": {
          "base_uri": "https://localhost:8080/"
        },
        "id": "iP8z7Z3AsAhP",
        "outputId": "16d91944-6728-44af-a83c-3a04238a8b4e"
      },
      "source": [
        "nome = \"Walter\"\n",
        "surn = \"Bono\"\n",
        "data = \"26/01/2005\"\n",
        "cit = \"Pavia\"\n",
        "print(nome,surn,data,cit,sep=\"-\")"
      ],
      "execution_count": 39,
      "outputs": [
        {
          "output_type": "stream",
          "name": "stdout",
          "text": [
            "Walter-Bono-26/01/2005-Pavia\n"
          ]
        }
      ]
    },
    {
      "cell_type": "markdown",
      "metadata": {
        "id": "COFxOaKose6N"
      },
      "source": [
        "k. visualizzare le stesse informazioni per 10 volte di seguito\n"
      ]
    },
    {
      "cell_type": "code",
      "metadata": {
        "colab": {
          "base_uri": "https://localhost:8080/"
        },
        "id": "MVg3kbyVshgv",
        "outputId": "071d6b1f-ae82-4dd4-f355-1bec787404c3"
      },
      "source": [
        "inf = \"Walter-Bono-26/01/2005-Pavia\\n\"\n",
        "print(inf*10)"
      ],
      "execution_count": 41,
      "outputs": [
        {
          "output_type": "stream",
          "name": "stdout",
          "text": [
            "Walter-Bono-26/01/2005-Pavia\n",
            "Walter-Bono-26/01/2005-Pavia\n",
            "Walter-Bono-26/01/2005-Pavia\n",
            "Walter-Bono-26/01/2005-Pavia\n",
            "Walter-Bono-26/01/2005-Pavia\n",
            "Walter-Bono-26/01/2005-Pavia\n",
            "Walter-Bono-26/01/2005-Pavia\n",
            "Walter-Bono-26/01/2005-Pavia\n",
            "Walter-Bono-26/01/2005-Pavia\n",
            "Walter-Bono-26/01/2005-Pavia\n",
            "\n"
          ]
        }
      ]
    },
    {
      "cell_type": "markdown",
      "metadata": {
        "id": "64_Gbp_4vGnv"
      },
      "source": [
        "l. assegnare il proprio nome e cognome ad una stringa e visualizzarla con tutte le lettere maiuscole\n"
      ]
    },
    {
      "cell_type": "code",
      "metadata": {
        "colab": {
          "base_uri": "https://localhost:8080/"
        },
        "id": "HEaLAm5DvJOf",
        "outputId": "e28711d9-9e33-4800-e450-a3e4f11c3ff9"
      },
      "source": [
        "nome = \"Walter Bono\"\n",
        "print(nome.upper())"
      ],
      "execution_count": null,
      "outputs": [
        {
          "output_type": "stream",
          "name": "stdout",
          "text": [
            "WALTER BONO\n"
          ]
        }
      ]
    },
    {
      "cell_type": "markdown",
      "metadata": {
        "id": "zOx2OsU_wEOQ"
      },
      "source": [
        "m. assegnare il proprio nome e cognome ad una stringa e visualizzarla con le prime lettere maiuscole\n"
      ]
    },
    {
      "cell_type": "code",
      "metadata": {
        "colab": {
          "base_uri": "https://localhost:8080/"
        },
        "id": "1MDzFWJKwE2_",
        "outputId": "77d9bb07-d645-4b84-85ca-62740491c670"
      },
      "source": [
        "nome = \"walter bono\"\n",
        "print(nome.title())"
      ],
      "execution_count": null,
      "outputs": [
        {
          "output_type": "stream",
          "name": "stdout",
          "text": [
            "Walter Bono\n"
          ]
        }
      ]
    },
    {
      "cell_type": "markdown",
      "metadata": {
        "id": "H4-SJ4K4w9Xf"
      },
      "source": [
        "n. assegnare il proprio nome e cognome ad una stringa e visualizzarne la lunghezza\n"
      ]
    },
    {
      "cell_type": "code",
      "metadata": {
        "colab": {
          "base_uri": "https://localhost:8080/"
        },
        "id": "mt23P4bvw_nn",
        "outputId": "ee2f0efc-f049-45c5-ca51-82fc2c71d26a"
      },
      "source": [
        "nome= \"Walter Bono\"\n",
        "print(len(nome))"
      ],
      "execution_count": null,
      "outputs": [
        {
          "output_type": "stream",
          "name": "stdout",
          "text": [
            "11\n"
          ]
        }
      ]
    },
    {
      "cell_type": "markdown",
      "metadata": {
        "id": "kuOp9lX84eAo"
      },
      "source": [
        "o. assegnare il proprio nome e cognome ad una stringa e contate quante vocali contiene\n"
      ]
    },
    {
      "cell_type": "code",
      "metadata": {
        "colab": {
          "base_uri": "https://localhost:8080/"
        },
        "id": "qVSO5oq845WZ",
        "outputId": "495f2d17-644e-4cf5-90bb-cc9ae994c3c7"
      },
      "source": [
        "nome= \"Walter Bono\"\n",
        "print(nome.count(\"a\")+nome.count(\"e\")+nome.count(\"i\")+nome.count(\"o\")+nome.count(\"u\"))"
      ],
      "execution_count": 27,
      "outputs": [
        {
          "output_type": "stream",
          "name": "stdout",
          "text": [
            "4\n"
          ]
        }
      ]
    },
    {
      "cell_type": "markdown",
      "metadata": {
        "id": "uLGojnTYnfEr"
      },
      "source": [
        "p. assegnare il proprio nome e cognome ad una stringa e visualizzare i primi 5 caratteri\n"
      ]
    },
    {
      "cell_type": "code",
      "metadata": {
        "colab": {
          "base_uri": "https://localhost:8080/"
        },
        "id": "zizyHt6Gnfm9",
        "outputId": "33111859-817d-49c6-f3e6-fc9e4ef19363"
      },
      "source": [
        "nome= \"Walter Bono\"\n",
        "print(nome[:5])"
      ],
      "execution_count": 8,
      "outputs": [
        {
          "output_type": "stream",
          "name": "stdout",
          "text": [
            "Walte\n"
          ]
        }
      ]
    },
    {
      "cell_type": "markdown",
      "metadata": {
        "id": "HZSHw-TWpR4_"
      },
      "source": [
        "q. assegnare il proprio nome e cognome ad una stringa e visualizzare gli ultimi 5 caratteri\n"
      ]
    },
    {
      "cell_type": "code",
      "metadata": {
        "colab": {
          "base_uri": "https://localhost:8080/"
        },
        "id": "449hIdeWpUVB",
        "outputId": "453a3ef0-0245-4ce8-80ab-e37671d542ca"
      },
      "source": [
        "nome= \"Walter Bono\"\n",
        "print(nome[len(nome)-5:])"
      ],
      "execution_count": 13,
      "outputs": [
        {
          "output_type": "stream",
          "name": "stdout",
          "text": [
            " Bono\n"
          ]
        }
      ]
    },
    {
      "cell_type": "markdown",
      "metadata": {
        "id": "zDu-_pVCp4RY"
      },
      "source": [
        "r.. assegnare il proprio nome e cognome ad una stringa e visualizzare i 5 caratteri centrali\n"
      ]
    },
    {
      "cell_type": "code",
      "metadata": {
        "colab": {
          "base_uri": "https://localhost:8080/"
        },
        "id": "heMrxBkyqi0m",
        "outputId": "6f23434e-e493-49d9-f23c-9b9acec9b236"
      },
      "source": [
        "nome= \"Walter Bono\"\n",
        "cent= int(len(nome)//2)\n",
        "print(cent)\n",
        "print(nome[cent-2:cent+3])"
      ],
      "execution_count": 38,
      "outputs": [
        {
          "output_type": "stream",
          "name": "stdout",
          "text": [
            "5\n",
            "ter B\n"
          ]
        }
      ]
    },
    {
      "cell_type": "markdown",
      "metadata": {
        "id": "zCZlbS9Itb4j"
      },
      "source": [
        "s. assegnare il proprio nome e cognome ad una stringa e sostituire le vocali con una X\n"
      ]
    },
    {
      "cell_type": "code",
      "metadata": {
        "colab": {
          "base_uri": "https://localhost:8080/"
        },
        "id": "7R0nya9_tcXZ",
        "outputId": "caa0c3b9-6814-4ac3-c67e-2f4b0e6ce7b2"
      },
      "source": [
        "nome= \"Walter Bono\"\n",
        "print(nome.replace(\"a\",\"X\").replace(\"e\",\"X\").replace(\"i\",\"X\").replace(\"o\",\"X\").replace(\"u\",\"X\"))"
      ],
      "execution_count": 25,
      "outputs": [
        {
          "output_type": "stream",
          "name": "stdout",
          "text": [
            "WXltXr BXnX\n"
          ]
        }
      ]
    }
  ]
}